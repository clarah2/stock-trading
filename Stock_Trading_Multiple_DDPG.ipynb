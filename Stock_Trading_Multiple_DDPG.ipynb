{
 "cells": [
  {
   "cell_type": "markdown",
   "id": "d9ba7d49",
   "metadata": {},
   "source": [
    "# Stock Trading test"
   ]
  },
  {
   "cell_type": "code",
   "execution_count": 1,
   "id": "d586073d",
   "metadata": {},
   "outputs": [],
   "source": [
    "import numpy as np\n",
    "import matplotlib.pyplot as plt\n",
    "import time\n",
    "import pandas as pd\n",
    "from elegantrl.train.run_tutorial import *\n",
    "from elegantrl.train.run_parallel import *\n",
    "from elegantrl.train.config import Arguments\n",
    "from elegantrl.agents import AgentPPO, AgentDDPG\n",
    "from stock_env_multiple import StockEnvMultiple\n",
    "\n",
    "np.set_printoptions(formatter={'float': lambda x: \"{0:0.2f}\".format(x)})"
   ]
  },
  {
   "cell_type": "code",
   "execution_count": null,
   "id": "ffe59e11",
   "metadata": {},
   "outputs": [],
   "source": []
  },
  {
   "cell_type": "code",
   "execution_count": 2,
   "id": "c6b5356d",
   "metadata": {},
   "outputs": [],
   "source": [
    "tics = pd.read_csv('data/filtered_with_ti.csv', header=0)\n",
    "all_tickers = tics['tic'].unique()\n",
    "daterange = tics[tics['tic'] == 'AAPL']['Date'].to_numpy()\n",
    "\n",
    "def check_tickers(stock):\n",
    "    return stock in all_tickers\n",
    "\n",
    "def check_date(date):\n",
    "    return date in daterange"
   ]
  },
  {
   "cell_type": "code",
   "execution_count": 3,
   "id": "0a0205da",
   "metadata": {},
   "outputs": [
    {
     "data": {
      "text/plain": [
       "True"
      ]
     },
     "execution_count": 3,
     "metadata": {},
     "output_type": "execute_result"
    }
   ],
   "source": [
    "check_date('2006-06-16')"
   ]
  },
  {
   "cell_type": "code",
   "execution_count": 4,
   "id": "8563d057",
   "metadata": {},
   "outputs": [
    {
     "data": {
      "text/plain": [
       "True"
      ]
     },
     "execution_count": 4,
     "metadata": {},
     "output_type": "execute_result"
    }
   ],
   "source": [
    "check_tickers('TSLA')"
   ]
  },
  {
   "cell_type": "code",
   "execution_count": 5,
   "id": "e5909f9f",
   "metadata": {},
   "outputs": [
    {
     "data": {
      "text/plain": [
       "0           20.01\n",
       "1           20.10\n",
       "2           20.12\n",
       "3           20.34\n",
       "4           20.46\n",
       "            ...  \n",
       "1876119    129.10\n",
       "1876120    128.36\n",
       "1876121    128.92\n",
       "1876122    132.36\n",
       "1876123    134.10\n",
       "Name: Close, Length: 1876124, dtype: float64"
      ]
     },
     "execution_count": 5,
     "metadata": {},
     "output_type": "execute_result"
    }
   ],
   "source": [
    "tics['Close']"
   ]
  },
  {
   "cell_type": "code",
   "execution_count": 6,
   "id": "fc138145",
   "metadata": {},
   "outputs": [
    {
     "data": {
      "text/html": [
       "<div>\n",
       "<style scoped>\n",
       "    .dataframe tbody tr th:only-of-type {\n",
       "        vertical-align: middle;\n",
       "    }\n",
       "\n",
       "    .dataframe tbody tr th {\n",
       "        vertical-align: top;\n",
       "    }\n",
       "\n",
       "    .dataframe thead th {\n",
       "        text-align: right;\n",
       "    }\n",
       "</style>\n",
       "<table border=\"1\" class=\"dataframe\">\n",
       "  <thead>\n",
       "    <tr style=\"text-align: right;\">\n",
       "      <th></th>\n",
       "      <th>gvkey</th>\n",
       "      <th>iid</th>\n",
       "      <th>Date</th>\n",
       "      <th>tic</th>\n",
       "      <th>Volume</th>\n",
       "      <th>Close</th>\n",
       "      <th>High</th>\n",
       "      <th>Low</th>\n",
       "      <th>Open</th>\n",
       "      <th>rsi</th>\n",
       "      <th>macd</th>\n",
       "      <th>macdsignal</th>\n",
       "      <th>macdhist</th>\n",
       "      <th>obv</th>\n",
       "      <th>cci</th>\n",
       "      <th>adx</th>\n",
       "    </tr>\n",
       "  </thead>\n",
       "  <tbody>\n",
       "  </tbody>\n",
       "</table>\n",
       "</div>"
      ],
      "text/plain": [
       "Empty DataFrame\n",
       "Columns: [gvkey, iid, Date, tic, Volume, Close, High, Low, Open, rsi, macd, macdsignal, macdhist, obv, cci, adx]\n",
       "Index: []"
      ]
     },
     "execution_count": 6,
     "metadata": {},
     "output_type": "execute_result"
    }
   ],
   "source": [
    "# Arguments\n",
    "tics[tics['Close'] > 1e4]"
   ]
  },
  {
   "cell_type": "code",
   "execution_count": 7,
   "id": "154f07e7",
   "metadata": {},
   "outputs": [
    {
     "name": "stdout",
     "output_type": "stream",
     "text": [
      "PNW True\n",
      "BBY True\n",
      "BIO True\n",
      "RHI True\n",
      "CI True\n",
      "CSX True\n",
      "KO True\n",
      "CCZ True\n",
      "CMA True\n",
      "ETN True\n",
      "XOM True\n",
      "FDX True\n",
      "FRT True\n",
      "MTB True\n",
      "AJG True\n",
      "HGM True\n",
      "ITW True\n",
      "IFF True\n",
      "KSU True\n",
      "CVS True\n",
      "NEM True\n",
      "XEL True\n",
      "OKE True\n",
      "PNC True\n",
      "PEP True\n",
      "MO True\n",
      "RGE True\n",
      "SO True\n",
      "SYK True\n",
      "TER True\n",
      "TSN True\n",
      "AEE True\n",
      "WST True\n",
      "WDC True\n",
      "JKHY True\n",
      "TFC True\n",
      "MS True\n",
      "TROW True\n",
      "UNN True\n",
      "AAPL True\n",
      "Using stocks: ['PNW', 'BBY', 'BIO', 'RHI', 'CI', 'CSX', 'KO', 'CCZ', 'CMA', 'ETN', 'XOM', 'FDX', 'FRT', 'MTB', 'AJG', 'HGM', 'ITW', 'IFF', 'KSU', 'CVS', 'NEM', 'XEL', 'OKE', 'PNC', 'PEP', 'MO', 'RGE', 'SO', 'SYK', 'TER', 'TSN', 'AEE', 'WST', 'WDC', 'JKHY', 'TFC', 'MS', 'TROW', 'UNN', 'AAPL']\n"
     ]
    }
   ],
   "source": [
    "used_tickers = ['PNW', 'BBY', 'BIO', 'RHI', 'CI', 'CSX', 'KO', 'CCZ', 'CMA', 'ETN',\n",
    "               'XOM', 'FDX', 'FRT', 'MTB', 'AJG', 'HGM', 'ITW', 'IFF', 'KSU', 'CVS',\n",
    "               'NEM', 'XEL', 'OKE', 'PNC', 'PEP', 'MO', 'RGE', 'SO', 'SYK', 'TER',\n",
    "               'TSN', 'AEE', 'WST', 'WDC', 'JKHY', 'TFC', 'MS', 'TROW', 'UNN', 'AAPL']\n",
    "\n",
    "for tic in used_tickers:\n",
    "    print(tic, check_tickers(tic))\n",
    "\n",
    "# used_tickers = ['MSFT', 'AAPL', 'TSLA']\n",
    "\n",
    "\n",
    "tickers = {x: 0 for x in used_tickers}\n",
    "initial_stocks = np.zeros([len(tickers), 1])\n",
    "\n",
    "\n",
    "gamma = 0.99\n",
    "max_stock = 1e2\n",
    "initial_capital = 1e6\n",
    "initial_stocks = np.zeros(len(tickers), dtype=np.float32)\n",
    "\n",
    "start_date = '2006-01-03'\n",
    "end_date = '2015-06-16'\n",
    "start_eval_date = '2016-01-01'\n",
    "end_eval_date = '2021-01-01'\n",
    "\n",
    "# Agent\n",
    "ddpg = AgentDDPG.AgentDDPG() # AgentSAC(), AgentTD3(), AgentDDPG()?\n",
    "ddpg.if_use_gae = True\n",
    "ddpg.explore_noise = 0.3\n",
    "ddpg.if_on_policy = True\n",
    "\n",
    "# Environment\n",
    "env = StockEnvMultiple(tickers=tickers, begin_date=start_date, end_date=end_date)\n",
    "env.max_step = 100\n",
    "\n",
    "args = Arguments(env, ddpg)\n",
    "\n",
    "\n",
    "# Hyperparameters\n",
    "args.gamma = gamma\n",
    "# args.cwd = './models/RLStockPPO_v3/'\n",
    "args.break_step = int(2e5)\n",
    "args.net_dim = 2 ** 9\n",
    "args.max_step = args.env.max_step\n",
    "args.max_memo = args.max_step * 4\n",
    "args.reward_scale = 1e-4\n",
    "args.batch_size = 2 ** 10\n",
    "args.repeat_times = 1\n",
    "args.eval_gap = 2 ** 4\n",
    "args.eval_times1 = 2 ** 3\n",
    "args.eval_times2 = 2 ** 5\n",
    "args.worker_num = 4\n",
    "args.thread_num = 16\n",
    "args.if_allow_break = False\n",
    "args.target_return = 1.1e7\n",
    "args.rollout_num = 4 # the number of rollout workers (larger is not always faster)"
   ]
  },
  {
   "cell_type": "code",
   "execution_count": 8,
   "id": "80a08a3f",
   "metadata": {},
   "outputs": [
    {
     "data": {
      "text/plain": [
       "2378"
      ]
     },
     "execution_count": 8,
     "metadata": {},
     "output_type": "execute_result"
    }
   ],
   "source": [
    "env.reset()\n",
    "count = 0\n",
    "out = False\n",
    "while not out:\n",
    "    state, _, out, _ = env.step(np.array([0.1] * 100))\n",
    "    test = state.sum()\n",
    "    if np.isnan(test):\n",
    "        break\n",
    "    count += 1\n",
    "env.state\n",
    "count"
   ]
  },
  {
   "cell_type": "code",
   "execution_count": 9,
   "id": "fbe5041c",
   "metadata": {},
   "outputs": [
    {
     "data": {
      "text/plain": [
       "array([1000000.00, 0.00, 0.00, 0.00, 0.00, 0.00, 0.00, 0.00, 0.00, 0.00,\n",
       "       0.00, 0.00, 0.00, 0.00, 0.00, 0.00, 0.00, 0.00, 0.00, 0.00, 0.00,\n",
       "       0.00, 0.00, 0.00, 0.00, 0.00, 0.00, 0.00, 0.00, 0.00, 0.00, 0.00,\n",
       "       0.00, 0.00, 0.00, 0.00, 0.00, 0.00, 0.00, 0.00, 0.00, 41.60, 43.75,\n",
       "       64.70, 37.79, 111.89, 50.92, 40.79, 40.25, 56.86, 67.30, 56.42,\n",
       "       103.38, 60.65, 109.05, 30.98, 14.25, 88.60, 33.69, 24.67, 26.67,\n",
       "       54.10, 18.52, 26.87, 62.25, 59.92, 75.15, 26.01, 34.76, 44.90,\n",
       "       14.50, 17.07, 51.70, 25.15, 18.64, 19.10, 42.13, 57.17, 72.37,\n",
       "       24.64, 72.38, 42.45, 44.73, 65.45, 37.48, 112.30, 49.95, 40.90,\n",
       "       41.00, 57.60, 67.23, 58.47, 103.32, 61.63, 110.99, 31.34, 14.14,\n",
       "       89.58, 33.75, 24.44, 26.35, 57.14, 18.57, 27.32, 63.56, 59.76,\n",
       "       74.98, 26.45, 35.07, 44.60, 14.78, 16.71, 51.86, 25.86, 19.02,\n",
       "       19.35, 42.31, 58.31, 72.99, 24.74, 74.75, 0.00, 0.00, 0.00, 0.00,\n",
       "       0.00, 0.00, 0.00, 0.00, 0.00, 0.00, 0.00, 0.00, 0.00, 0.00, 0.00,\n",
       "       0.00, 0.00, 0.00, 0.00, 0.00, 0.00, 0.00, 0.00, 0.00, 0.00, 0.00,\n",
       "       0.00, 0.00, 0.00, 0.00, 0.00, 0.00, 0.00, 0.00, 0.00, 0.00, 0.00,\n",
       "       0.00, 0.00, 0.00, 0.00, 0.00, 0.00, 0.00, 0.00, 0.00, 0.00, 0.00,\n",
       "       0.00, 0.00, 0.00, 0.00, 0.00, 0.00, 0.00, 0.00, 0.00, 0.00, 0.00,\n",
       "       0.00, 0.00, 0.00, 0.00, 0.00, 0.00, 0.00, 0.00, 0.00, 0.00, 0.00,\n",
       "       0.00, 0.00, 0.00, 0.00, 0.00, 0.00, 0.00, 0.00, 0.00, 0.00,\n",
       "       879400.00, 5101700.00, 86600.00, 611700.00, 1084900.00, 1722900.00,\n",
       "       6820400.00, 400.00, 1714300.00, 1250400.00, 23871300.00,\n",
       "       2227400.00, 481700.00, 339000.00, 338800.00, 63600.00, 1491400.00,\n",
       "       398200.00, 1101900.00, 7877900.00, 11428100.00, 2139900.00,\n",
       "       780900.00, 1625300.00, 4424100.00, 8818500.00, 12500.00,\n",
       "       2203700.00, 2148800.00, 2081600.00, 3328200.00, 900500.00,\n",
       "       154500.00, 4556400.00, 641790.00, 2352900.00, 5377000.00,\n",
       "       736499.00, 2700.00, 28712830.00, 0.00, 0.00, 0.00, 0.00, 0.00,\n",
       "       0.00, 0.00, 0.00, 0.00, 0.00, 0.00, 0.00, 0.00, 0.00, 0.00, 0.00,\n",
       "       0.00, 0.00, 0.00, 0.00, 0.00, 0.00, 0.00, 0.00, 0.00, 0.00, 0.00,\n",
       "       0.00, 0.00, 0.00, 0.00, 0.00, 0.00, 0.00, 0.00, 0.00, 0.00, 0.00,\n",
       "       0.00, 0.00, 0.00, 0.00, 0.00, 0.00, 0.00, 0.00, 0.00, 0.00, 0.00,\n",
       "       0.00, 0.00, 0.00, 0.00, 0.00, 0.00, 0.00, 0.00, 0.00, 0.00, 0.00,\n",
       "       0.00, 0.00, 0.00, 0.00, 0.00, 0.00, 0.00, 0.00, 0.00, 0.00, 0.00,\n",
       "       0.00, 0.00, 0.00, 0.00, 0.00, 0.00, 0.00, 0.00, 0.00])"
      ]
     },
     "execution_count": 9,
     "metadata": {},
     "output_type": "execute_result"
    }
   ],
   "source": [
    "env.state"
   ]
  },
  {
   "cell_type": "code",
   "execution_count": 10,
   "id": "ef9ad54e",
   "metadata": {},
   "outputs": [
    {
     "name": "stdout",
     "output_type": "stream",
     "text": [
      "| Remove cwd: ./AgentDDPG_RLStockEnv-v3_(0,)\n",
      "38.047903060913086\n"
     ]
    }
   ],
   "source": [
    "a = time.time()\n",
    "train_and_evaluate_mp(args)\n",
    "print(time.time() - a)"
   ]
  },
  {
   "cell_type": "code",
   "execution_count": 11,
   "id": "512119c5",
   "metadata": {},
   "outputs": [
    {
     "data": {
      "text/plain": [
       "{'PNW': 510.0,\n",
       " 'BBY': 510.0,\n",
       " 'BIO': 510.0,\n",
       " 'RHI': 510.0,\n",
       " 'CI': 1530.0,\n",
       " 'CSX': 3060.0,\n",
       " 'KO': 1020.0,\n",
       " 'CCZ': 510.0,\n",
       " 'CMA': 510.0,\n",
       " 'ETN': 1020.0,\n",
       " 'XOM': 510.0,\n",
       " 'FDX': 510.0,\n",
       " 'FRT': 510.0,\n",
       " 'MTB': 510.0,\n",
       " 'AJG': 510.0,\n",
       " 'HGM': 511.0,\n",
       " 'ITW': 1020.0,\n",
       " 'IFF': 510.0,\n",
       " 'KSU': 510.0,\n",
       " 'CVS': 510.0,\n",
       " 'NEM': 507.0,\n",
       " 'XEL': 502.0,\n",
       " 'OKE': 1000.0,\n",
       " 'PNC': 500.0,\n",
       " 'PEP': 500.0,\n",
       " 'MO': 1500.0,\n",
       " 'RGE': 500.0,\n",
       " 'SO': 500.0,\n",
       " 'SYK': 500.0,\n",
       " 'TER': 500.0,\n",
       " 'TSN': 500.0,\n",
       " 'AEE': 500.0,\n",
       " 'WST': 1000.0,\n",
       " 'WDC': 500.0,\n",
       " 'JKHY': 500.0,\n",
       " 'TFC': 500.0,\n",
       " 'MS': 500.0,\n",
       " 'TROW': 1000.0,\n",
       " 'UNN': 500.0,\n",
       " 'AAPL': 3500.0}"
      ]
     },
     "execution_count": 11,
     "metadata": {},
     "output_type": "execute_result"
    }
   ],
   "source": [
    "args.env.stocks"
   ]
  },
  {
   "cell_type": "code",
   "execution_count": 12,
   "id": "40011ab6",
   "metadata": {},
   "outputs": [
    {
     "name": "stdout",
     "output_type": "stream",
     "text": [
      "[0.0, 0.0, 0.0, 0.0, 0.0, 0.0, 0.0, 0.0, 0.0, 0.0, 0.0, 0.0, 0.0, 0.0, 0.0, 0.0, 0.0, 0.0, 0.0, 0.0, 0.0, 0.0, 0.0, 0.0, 0.0, 0.0, 0.0, 0.0, 0.0, 0.0, 0.0, 0.0, 0.0, 0.0, 0.0, 0.0, 0.0, 0.0, 0.0, 0.0]\n",
      "Using stocks: ['PNW', 'BBY', 'BIO', 'RHI', 'CI', 'CSX', 'KO', 'CCZ', 'CMA', 'ETN', 'XOM', 'FDX', 'FRT', 'MTB', 'AJG', 'HGM', 'ITW', 'IFF', 'KSU', 'CVS', 'NEM', 'XEL', 'OKE', 'PNC', 'PEP', 'MO', 'RGE', 'SO', 'SYK', 'TER', 'TSN', 'AEE', 'WST', 'WDC', 'JKHY', 'TFC', 'MS', 'TROW', 'UNN', 'AAPL']\n",
      "| Keep cwd: ./AgentDDPG_RLStockEnv-v3_(0,)\n",
      "[1000000.00 0.00 0.00 0.00 0.00 0.00 0.00 0.00 0.00 0.00 0.00 0.00 0.00\n",
      " 0.00 0.00 0.00 0.00 0.00 0.00 0.00 0.00 0.00 0.00 0.00 0.00 0.00 0.00\n",
      " 0.00 0.00 0.00 0.00 0.00 0.00 0.00 0.00 0.00 0.00 0.00 0.00 0.00 0.00\n",
      " 63.96 30.72 135.80 46.14 146.49 25.80 42.31 0.00 41.53 52.22 77.19 143.56\n",
      " 145.14 117.87 40.32 0.00 91.08 118.40 74.03 96.39 18.57 35.68 25.31 93.23\n",
      " 98.81 57.48 0.00 46.95 90.12 20.41 52.29 43.02 57.82 60.75 76.57 36.61\n",
      " 31.48 70.39 0.00 105.75 64.40 31.15 136.18 46.29 144.14 25.53 42.55 43.00\n",
      " 40.98 51.85 78.12 144.65 146.54 118.13 40.31 0.00 89.73 118.93 73.98\n",
      " 96.74 18.42 36.06 25.37 93.29 99.45 58.55 0.00 47.36 90.89 20.51 52.30\n",
      " 43.54 56.87 60.14 77.65 36.66 31.28 70.48 0.00 102.71 53.10 49.22 43.21\n",
      " 37.21 62.55 44.81 42.92 0.00 42.18 45.52 45.54 36.78 46.56 36.58 34.38\n",
      " 0.00 42.72 49.29 38.23 49.26 53.20 50.16 53.12 43.83 45.34 46.78 0.00\n",
      " 60.41 36.41 45.32 54.37 47.66 32.38 45.81 40.95 38.45 0.00 39.10 0.00\n",
      " 38.40 0.47 -0.30 -0.12 -0.87 2.56 -0.35 0.10 -0.69 -0.77 -0.65 -0.30\n",
      " -2.33 0.60 -0.89 -0.73 0.00 -0.06 0.52 -2.75 0.54 -0.07 0.15 -0.65 0.14\n",
      " 0.05 0.17 0.00 0.61 -0.81 0.15 1.08 0.13 -0.74 -1.01 0.01 -0.16 0.00\n",
      " -0.81 0.00 -2.90 1256904.00 17896905.00 6117400.00 4557780.00\n",
      " 132443117.00 606200199.00 1114982154.00 4481170.00 -131301787.00\n",
      " 60632177.00 -669103936.00 -16352342.00 17832129.00 13523910.00\n",
      " 92039733.00 0.00 124090327.00 21640106.00 69067368.00 332008203.00\n",
      " -526823535.00 212568420.00 -195440.00 -169478035.00 -5998872.00\n",
      " 1852647185.00 0.00 56455629.00 28229927.00 154147862.00 793795453.00\n",
      " 45912395.00 -1430173.00 265689765.00 33250731.00 67811992.00 263716727.00\n",
      " -9111247.00 0.00 448045936.00 9.51 106.02 -86.69 -35.29 9.12 -63.41\n",
      " -122.10 -29.36 -82.41 -2.54 -64.44 -153.82 -110.61 -156.47 -84.02 0.00\n",
      " -166.80 -32.45 34.06 -18.74 59.04 -16.63 96.47 -133.66 -43.53 23.08 0.00\n",
      " 64.87 -123.84 -71.36 -194.22 -26.64 -241.59 -0.84 -69.52 -151.48 -117.00\n",
      " -92.11 0.00 -158.46 11.37 29.97 21.56 29.44 30.98 14.04 14.20 34.03 26.59\n",
      " 23.71 12.51 21.66 13.44 16.73 36.33 0.00 14.12 12.59 32.72 19.07 10.93\n",
      " 12.62 26.29 10.84 11.74 10.15 0.00 20.39 22.95 15.97 33.32 13.60 20.42\n",
      " 32.66 15.91 13.21 0.00 21.25 0.00 32.56]\n"
     ]
    },
    {
     "name": "stderr",
     "output_type": "stream",
     "text": [
      "/Users/clarespeer/Clare/School Work/UMich/592 AI Foundations/stock-trading/stock_env_multiple.py:219: UserWarning: Creating a tensor from a list of numpy.ndarrays is extremely slow. Please consider converting the list to a single numpy.ndarray with numpy.array() before converting to a tensor. (Triggered internally at  /Users/distiller/project/conda/conda-bld/pytorch_1634272482218/work/torch/csrc/utils/tensor_new.cpp:201.)\n",
      "  s_tensor = _torch.as_tensor((state,), device=device).float()\n"
     ]
    },
    {
     "data": {
      "image/png": "[encoded data removed]",
      "text/plain": [
       "<Figure size 432x288 with 1 Axes>"
      ]
     },
     "metadata": {
      "needs_background": "light"
     },
     "output_type": "display_data"
    }
   ],
   "source": [
    "start_eval_date = '2016-01-05'\n",
    "end_eval_date = '2021-01-05'\n",
    "# used_tickers = ['PNW', 'BBY', 'BIO', 'RHI', 'CI', 'CSX', 'KO', 'CCZ', 'CMA', 'ETN',\n",
    "#            'XOM', 'FDX', 'FRT', 'MTB', 'AJG', 'HGM', 'ITW', 'IFF', 'KSU', 'CVS',\n",
    "#            'NEM', 'XEL', 'OKE', 'PNC', 'PEP', 'MO', 'RGE', 'SO', 'SYK', 'TER',\n",
    "#            'TSN', 'AEE', 'WST', 'WDC', 'JKHY', 'TFC', 'MS', 'TROW', 'UNN', 'CDNS',\n",
    "#            'DRE', 'ABMD', 'WRB', 'VLO', 'PBCT', 'PTC', 'XLNX', 'AZO', 'REGN',\n",
    "#            'AES', 'STE', 'DHI', 'COST', 'EMN', 'ABC', 'WAB', 'HSIC', 'EL', 'RL',\n",
    "#            'BXP', 'MTD', 'VRSN', 'RSG', 'MCO', 'GRMN', 'MDLZ', 'LVS', 'CE', 'UAA',\n",
    "#            'FIS', 'CBRE']\n",
    "\n",
    "tickers = {x: 0 for x in used_tickers}\n",
    "\n",
    "\n",
    "\n",
    "agent = AgentDDPG.AgentDDPG() # AgentSAC(), AgentTD3(), AgentDDPG()?\n",
    "agent.if_use_gae = True\n",
    "ddpg.explore_noise = 0.3\n",
    "\n",
    "initial_stocks = np.zeros([len(tickers)]).tolist()\n",
    "print(initial_stocks)\n",
    "\n",
    "env_eval = StockEnvMultiple(tickers=tickers,\n",
    "                            begin_date=start_eval_date,\n",
    "                            end_date=end_eval_date)\n",
    "\n",
    "\n",
    "agent.if_on_policy = False\n",
    "args = Arguments(env_eval, agent)\n",
    "\n",
    "args.if_remove = False\n",
    "args.cwd = './AgentDDPG_RLStockEnv-v3_(0,)'\n",
    "args.gamma = gamma\n",
    "args.break_step = int(2e5)\n",
    "args.net_dim = 2 ** 9\n",
    "args.max_step = args.env.max_step\n",
    "args.max_memo = args.max_step * 4\n",
    "args.batch_size = 2 ** 10\n",
    "args.repeat_times = 2 ** 3\n",
    "args.eval_gap = 2 ** 4\n",
    "args.eval_times1 = 2 ** 3\n",
    "args.eval_times2 = 2 ** 5\n",
    "args.if_allow_break = False\n",
    "args.target_return = 1.1e7\n",
    "\n",
    "args.rollout_num = 6 # the number of rollout workers (larger is not always faster)\n",
    "args.init_before_training()\n",
    "\n",
    "env_eval.draw_cumulative_return(args, torch, 'DDPG')\n",
    "plt.show()"
   ]
  },
  {
   "cell_type": "code",
   "execution_count": 13,
   "id": "9aba3edf",
   "metadata": {},
   "outputs": [],
   "source": [
    "plt.show()"
   ]
  },
  {
   "cell_type": "code",
   "execution_count": null,
   "id": "21be096b",
   "metadata": {},
   "outputs": [],
   "source": []
  }
 ],
 "metadata": {
  "kernelspec": {
   "display_name": "Python 3",
   "language": "python",
   "name": "python3"
  },
  "language_info": {
   "codemirror_mode": {
    "name": "ipython",
    "version": 3
   },
   "file_extension": ".py",
   "mimetype": "text/x-python",
   "name": "python",
   "nbconvert_exporter": "python",
   "pygments_lexer": "ipython3",
   "version": "3.8.8"
  }
 },
 "nbformat": 4,
 "nbformat_minor": 5
}
