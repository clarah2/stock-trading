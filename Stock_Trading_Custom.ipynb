{
 "cells": [
  {
   "cell_type": "markdown",
   "id": "d9ba7d49",
   "metadata": {},
   "source": [
    "# Stock Trading test"
   ]
  },
  {
   "cell_type": "code",
   "execution_count": 1,
   "id": "ffe59e11",
   "metadata": {},
   "outputs": [],
   "source": [
    "import numpy as np\n",
    "import matplotlib.pyplot as plt"
   ]
  },
  {
   "cell_type": "code",
   "execution_count": null,
   "id": "e0e61527",
   "metadata": {},
   "outputs": [],
   "source": []
  },
  {
   "cell_type": "code",
   "execution_count": 2,
   "id": "d586073d",
   "metadata": {},
   "outputs": [],
   "source": [
    "from elegantrl.run import *\n",
    "from elegantrl.agent import AgentPPO, AgentDDPG\n",
    "from stock_env import StockEnv"
   ]
  },
  {
   "cell_type": "code",
   "execution_count": 3,
   "id": "154f07e7",
   "metadata": {},
   "outputs": [
    {
     "name": "stdout",
     "output_type": "stream",
     "text": [
      "False\n"
     ]
    }
   ],
   "source": [
    "tickers = ['COKE']\n",
    "\n",
    "tech_indicator_list = [\n",
    "  'macd', 'boll_ub', 'boll_lb', 'rsi_30', 'cci_30', 'dx_30',\n",
    "  'close_30_sma', 'close_60_sma']  # finrl.config.TECHNICAL_INDICATORS_LIST\n",
    "\n",
    "gamma = 0.99\n",
    "max_stock = 1e2\n",
    "initial_capital = 1e6\n",
    "initial_stocks = np.zeros(len(tickers), dtype=np.float32)\n",
    "buy_cost_pct = 1e-3\n",
    "sell_cost_pct = 1e-3\n",
    "start_date = '2008-03-19'\n",
    "start_eval_date = '2016-01-01'\n",
    "end_eval_date = '2021-01-01'\n",
    "\n",
    "# Agent\n",
    "agent = AgentPPO() # AgentSAC(), AgentTD3(), AgentDDPG()\n",
    "agent.if_use_gae = True\n",
    "agent.lambda_entropy = 0.04\n",
    "agent.if_on_policy = True\n",
    "\n",
    "# Environment\n",
    "env = StockEnv()\n",
    "env_eval = StockEnv()\n",
    "\n",
    "env.target_reward = 100\n",
    "env_eval.target_reward = 100\n",
    "env.max_step = 100\n",
    "\n",
    "args = Arguments(env, agent)\n",
    "\n",
    "print(env.if_discrete)\n",
    "\n",
    "\n",
    "\n",
    "# Hyperparameters\n",
    "args.gamma = gamma\n",
    "args.break_step = int(2e5)\n",
    "args.net_dim = 2 ** 9\n",
    "args.max_step = args.env.max_step\n",
    "args.max_memo = args.max_step * 4\n",
    "args.batch_size = 2 ** 10\n",
    "args.repeat_times = 2 ** 3\n",
    "args.eval_gap = 2 ** 4\n",
    "args.eval_times1 = 2 ** 3\n",
    "args.eval_times2 = 2 ** 5\n",
    "args.if_allow_break = False\n",
    "args.rollout_num = 2 # the number of rollout workers (larger is not always faster)"
   ]
  },
  {
   "cell_type": "code",
   "execution_count": null,
   "id": "b4c430f1",
   "metadata": {},
   "outputs": [],
   "source": [
    "env._get_data()"
   ]
  },
  {
   "cell_type": "code",
   "execution_count": null,
   "id": "94980017",
   "metadata": {},
   "outputs": [],
   "source": [
    "env.reset()"
   ]
  },
  {
   "cell_type": "code",
   "execution_count": null,
   "id": "ab4d00a9",
   "metadata": {},
   "outputs": [],
   "source": [
    "env._get_length_of_data()"
   ]
  },
  {
   "cell_type": "code",
   "execution_count": 4,
   "id": "ef9ad54e",
   "metadata": {},
   "outputs": [
    {
     "name": "stdout",
     "output_type": "stream",
     "text": [
      "| Remove cwd: ./AgentPPO_RLStockEnv-v1_(0,)\n",
      "################################################################################\n",
      "ID     Step    maxR |    avgR   stdR   avgS  stdS |    expR   objC   etc.\n",
      "0  1.54e+04124470.02 |\n",
      "0  1.54e+04124470.02 |124470.0210601.2     99     0 | 1184.18   1.07   0.34  -0.50\n",
      "0  4.05e+04161211.77 |\n",
      "0  4.05e+04161211.77 |161211.7710601.3     99     0 | 1000.02   1.55   0.33  -0.50\n",
      "0  6.37e+04161211.77 |141128.6611989.7     99     0 | 1211.67   0.61   0.31  -0.50\n",
      "0  8.88e+04161211.77 |142798.72 2630.8     99     0 | 1280.38   1.05   0.29  -0.50\n",
      "0  1.14e+05161211.77 |151984.16 2630.8     99     0 | 2915.24   0.74   0.34  -0.50\n",
      "0  1.39e+05161211.77 |161169.59 2630.8     99     0 | 4435.46   0.66   0.30  -0.50\n",
      "0  1.62e+05184133.20 |\n",
      "0  1.62e+05184133.20 |184133.2010601.3     99     0 | 5955.83   0.69   0.33  -0.50\n",
      "0  1.87e+05220874.97 |\n",
      "0  1.87e+05220874.97 |220874.9710601.3     99     0 | 7536.93   0.65   0.31  -0.50\n",
      "| UsedTime:     184 | SavedDir: ./AgentPPO_RLStockEnv-v1_(0,)\n"
     ]
    },
    {
     "name": "stderr",
     "output_type": "stream",
     "text": [
      "[W CudaIPCTypes.cpp:15] Producer process has been terminated before all shared CUDA tensors released. See Note [Sharing CUDA tensors]\n"
     ]
    }
   ],
   "source": [
    "train_and_evaluate_mp(args)"
   ]
  },
  {
   "cell_type": "code",
   "execution_count": 8,
   "id": "40011ab6",
   "metadata": {},
   "outputs": [
    {
     "name": "stdout",
     "output_type": "stream",
     "text": [
      "| Keep cwd: ./AgentPPO/StockTradingEnv-v1_0\n"
     ]
    },
    {
     "ename": "AttributeError",
     "evalue": "'StockEnv' object has no attribute 'draw_cumulative_return'",
     "output_type": "error",
     "traceback": [
      "\u001b[0;31m---------------------------------------------------------------------------\u001b[0m",
      "\u001b[0;31mAttributeError\u001b[0m                            Traceback (most recent call last)",
      "\u001b[0;32m/tmp/ipykernel_3717/30691501.py\u001b[0m in \u001b[0;36m<module>\u001b[0;34m\u001b[0m\n\u001b[1;32m      6\u001b[0m \u001b[0margs\u001b[0m\u001b[0;34m.\u001b[0m\u001b[0minit_before_training\u001b[0m\u001b[0;34m(\u001b[0m\u001b[0;34m)\u001b[0m\u001b[0;34m\u001b[0m\u001b[0;34m\u001b[0m\u001b[0m\n\u001b[1;32m      7\u001b[0m \u001b[0;34m\u001b[0m\u001b[0m\n\u001b[0;32m----> 8\u001b[0;31m \u001b[0menv\u001b[0m\u001b[0;34m.\u001b[0m\u001b[0mdraw_cumulative_return\u001b[0m\u001b[0;34m(\u001b[0m\u001b[0margs\u001b[0m\u001b[0;34m,\u001b[0m \u001b[0mtorch\u001b[0m\u001b[0;34m)\u001b[0m\u001b[0;34m\u001b[0m\u001b[0;34m\u001b[0m\u001b[0m\n\u001b[0m",
      "\u001b[0;31mAttributeError\u001b[0m: 'StockEnv' object has no attribute 'draw_cumulative_return'"
     ]
    }
   ],
   "source": [
    "agent.if_on_policy = False\n",
    "args = Arguments(env_eval, agent)\n",
    "\n",
    "args.if_remove = False\n",
    "args.cwd = './AgentPPO/StockTradingEnv-v1_0'\n",
    "args.init_before_training()\n",
    "\n",
    "env.draw_cumulative_return(args, torch)"
   ]
  }
 ],
 "metadata": {
  "kernelspec": {
   "display_name": "Python 3 (ipykernel)",
   "language": "python",
   "name": "python3"
  },
  "language_info": {
   "codemirror_mode": {
    "name": "ipython",
    "version": 3
   },
   "file_extension": ".py",
   "mimetype": "text/x-python",
   "name": "python",
   "nbconvert_exporter": "python",
   "pygments_lexer": "ipython3",
   "version": "3.7.5"
  }
 },
 "nbformat": 4,
 "nbformat_minor": 5
}
