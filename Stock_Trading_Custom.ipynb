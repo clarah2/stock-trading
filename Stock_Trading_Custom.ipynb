{
 "cells": [
  {
   "cell_type": "markdown",
   "id": "d9ba7d49",
   "metadata": {},
   "source": [
    "# Stock Trading test"
   ]
  },
  {
   "cell_type": "code",
   "execution_count": 1,
   "id": "ffe59e11",
   "metadata": {},
   "outputs": [],
   "source": [
    "import numpy as np\n",
    "import matplotlib.pyplot as plt"
   ]
  },
  {
   "cell_type": "code",
   "execution_count": null,
   "id": "e0e61527",
   "metadata": {},
   "outputs": [],
   "source": []
  },
  {
   "cell_type": "code",
   "execution_count": 2,
   "id": "d586073d",
   "metadata": {},
   "outputs": [],
   "source": [
    "from elegantrl.run import *\n",
    "from elegantrl.agent import AgentPPO, AgentDDPG\n",
    "from stock_env import StockEnv"
   ]
  },
  {
   "cell_type": "code",
   "execution_count": 3,
   "id": "154f07e7",
   "metadata": {},
   "outputs": [
    {
     "name": "stdout",
     "output_type": "stream",
     "text": [
      "False\n"
     ]
    }
   ],
   "source": [
    "tickers = ['COKE']\n",
    "\n",
    "tech_indicator_list = [\n",
    "  'macd', 'boll_ub', 'boll_lb', 'rsi_30', 'cci_30', 'dx_30',\n",
    "  'close_30_sma', 'close_60_sma']  # finrl.config.TECHNICAL_INDICATORS_LIST\n",
    "\n",
    "gamma = 0.99\n",
    "max_stock = 1e2\n",
    "initial_capital = 1e6\n",
    "initial_stocks = np.zeros(len(tickers), dtype=np.float32)\n",
    "buy_cost_pct = 1e-3\n",
    "sell_cost_pct = 1e-3\n",
    "start_date = '2008-03-19'\n",
    "start_eval_date = '2016-01-01'\n",
    "end_eval_date = '2021-01-01'\n",
    "\n",
    "# Agent\n",
    "agent = AgentPPO() # AgentSAC(), AgentTD3(), AgentDDPG()?\n",
    "agent.if_use_gae = True\n",
    "agent.lambda_entropy = 0.04\n",
    "agent.if_on_policy = True\n",
    "\n",
    "# Environment\n",
    "env = StockEnv()\n",
    "env_eval = StockEnv()\n",
    "\n",
    "env.target_reward = 100\n",
    "env_eval.target_reward = 100\n",
    "env.max_step = 100\n",
    "\n",
    "args = Arguments(env, agent)\n",
    "\n",
    "print(env.if_discrete)\n",
    "\n",
    "\n",
    "\n",
    "# Hyperparameters\n",
    "args.gamma = gamma\n",
    "args.break_step = int(2e5)\n",
    "args.net_dim = 2 ** 9\n",
    "args.max_step = args.env.max_step\n",
    "args.max_memo = args.max_step * 4\n",
    "args.batch_size = 2 ** 10\n",
    "args.repeat_times = 2 ** 3\n",
    "args.eval_gap = 2 ** 4\n",
    "args.eval_times1 = 2 ** 3\n",
    "args.eval_times2 = 2 ** 5\n",
    "args.if_allow_break = False\n",
    "args.rollout_num = 2 # the number of rollout workers (larger is not always faster)"
   ]
  },
  {
   "cell_type": "code",
   "execution_count": null,
   "id": "b4c430f1",
   "metadata": {},
   "outputs": [],
   "source": [
    "env._get_data()"
   ]
  },
  {
   "cell_type": "code",
   "execution_count": null,
   "id": "94980017",
   "metadata": {},
   "outputs": [],
   "source": [
    "env.reset()"
   ]
  },
  {
   "cell_type": "code",
   "execution_count": null,
   "id": "ab4d00a9",
   "metadata": {},
   "outputs": [],
   "source": [
    "env._get_length_of_data()"
   ]
  },
  {
   "cell_type": "code",
   "execution_count": null,
   "id": "ef9ad54e",
   "metadata": {},
   "outputs": [],
   "source": [
    "train_and_evaluate_mp(args)"
   ]
  },
  {
   "cell_type": "code",
   "execution_count": 4,
   "id": "40011ab6",
   "metadata": {},
   "outputs": [
    {
     "name": "stdout",
     "output_type": "stream",
     "text": [
      "| Keep cwd: ./AgentPPO_RL_StockEnv-v1_(0,)\n"
     ]
    },
    {
     "data": {
      "text/plain": [
       "[1.0,\n",
       " 0.99911,\n",
       " 0.99735,\n",
       " 0.99966,\n",
       " 0.9968199999999999,\n",
       " 0.99322,\n",
       " 0.9956799999999998,\n",
       " 0.9902199999999999,\n",
       " 0.9842999999999998,\n",
       " 0.9838499999999999,\n",
       " 0.9855499999999999,\n",
       " 0.9900599999999999,\n",
       " 0.9907799999999999,\n",
       " 0.99039,\n",
       " 0.99249,\n",
       " 0.9936899999999999,\n",
       " 0.9927299999999999,\n",
       " 0.9864399999999999,\n",
       " 0.9896799999999998,\n",
       " 0.9896799999999998,\n",
       " 0.9896799999999998,\n",
       " 1.0001799999999998,\n",
       " 0.9970999999999999,\n",
       " 1.00216,\n",
       " 1.0036999999999998,\n",
       " 1.0331799999999998,\n",
       " 1.0243799999999998,\n",
       " 1.01426,\n",
       " 0.9979799999999998,\n",
       " 1.0034799999999997,\n",
       " 1.01096,\n",
       " 0.9995199999999997,\n",
       " 0.9871999999999999,\n",
       " 0.9946799999999998,\n",
       " 1.00282,\n",
       " 0.98808,\n",
       " 0.9926999999999998,\n",
       " 1.01382,\n",
       " 1.01426,\n",
       " 1.0331799999999998,\n",
       " 1.0380199999999997,\n",
       " 1.04968,\n",
       " 1.0582599999999998,\n",
       " 1.0701399999999999,\n",
       " 1.08158,\n",
       " 1.0701399999999999,\n",
       " 1.0736599999999998,\n",
       " 1.0802599999999998,\n",
       " 1.0736599999999998,\n",
       " 1.0765199999999997,\n",
       " 1.0765199999999997,\n",
       " 1.0780599999999998,\n",
       " 1.0771799999999998,\n",
       " 1.0639799999999997,\n",
       " 1.0443999999999998,\n",
       " 1.04484,\n",
       " 1.0479199999999997,\n",
       " 1.0520999999999998,\n",
       " 1.0512199999999998,\n",
       " 1.0373599999999998,\n",
       " 1.0556199999999998,\n",
       " 1.0655199999999998,\n",
       " 1.0774,\n",
       " 1.08818,\n",
       " 1.0932399999999998,\n",
       " 1.0866399999999998,\n",
       " 1.09588,\n",
       " 1.1071,\n",
       " 1.1016,\n",
       " 1.0877399999999997,\n",
       " 1.0763,\n",
       " 1.0859799999999997,\n",
       " 1.1013799999999998,\n",
       " 1.1088599999999997,\n",
       " 1.1128199999999997,\n",
       " 1.1148,\n",
       " 1.1057799999999998,\n",
       " 1.1191999999999998,\n",
       " 1.1176599999999999,\n",
       " 1.1026999999999998,\n",
       " 1.1022599999999998,\n",
       " 1.1137,\n",
       " 1.1148,\n",
       " 1.1150199999999997,\n",
       " 1.1220599999999996,\n",
       " 1.1172199999999999,\n",
       " 1.1214,\n",
       " 1.1590199999999997,\n",
       " 1.1381199999999998,\n",
       " 1.139,\n",
       " 1.1594599999999997,\n",
       " 1.1753,\n",
       " 1.1684799999999997,\n",
       " 1.1933399999999998,\n",
       " 1.227,\n",
       " 1.22304,\n",
       " 1.2023599999999997,\n",
       " 1.1841,\n",
       " 1.1863,\n",
       " 1.19884]"
      ]
     },
     "execution_count": 4,
     "metadata": {},
     "output_type": "execute_result"
    },
    {
     "data": {
      "image/png": "[encoded data removed]",
      "text/plain": [
       "<Figure size 432x288 with 1 Axes>"
      ]
     },
     "metadata": {
      "needs_background": "light"
     },
     "output_type": "display_data"
    }
   ],
   "source": [
    "agent.if_on_policy = False\n",
    "args = Arguments(env_eval, agent)\n",
    "\n",
    "args.if_remove = False\n",
    "args.cwd = './AgentPPO_RL_StockEnv-v1_(0,)'\n",
    "args.init_before_training()\n",
    "\n",
    "env.draw_cumulative_return(args, torch)"
   ]
  },
  {
   "cell_type": "code",
   "execution_count": null,
   "id": "9aba3edf",
   "metadata": {},
   "outputs": [],
   "source": []
  }
 ],
 "metadata": {
  "kernelspec": {
   "display_name": "Python 3 (ipykernel)",
   "language": "python",
   "name": "python3"
  },
  "language_info": {
   "codemirror_mode": {
    "name": "ipython",
    "version": 3
   },
   "file_extension": ".py",
   "mimetype": "text/x-python",
   "name": "python",
   "nbconvert_exporter": "python",
   "pygments_lexer": "ipython3",
   "version": "3.7.5"
  }
 },
 "nbformat": 4,
 "nbformat_minor": 5
}
