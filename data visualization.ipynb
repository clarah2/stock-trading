{
 "cells": [
  {
   "cell_type": "code",
   "execution_count": null,
   "metadata": {
    "scrolled": false
   },
   "outputs": [],
   "source": [
    "# Imports\n",
    "import numpy as np\n",
    "import matplotlib.pyplot as plt\n",
    "import pandas as pd\n",
    "import talib"
   ]
  },
  {
   "cell_type": "markdown",
   "metadata": {},
   "source": [
    "# Load and visualize data."
   ]
  },
  {
   "cell_type": "code",
   "execution_count": null,
   "metadata": {},
   "outputs": [],
   "source": [
    "spy_data = pd.read_csv('data/SPY.csv', header=0, names=['Date', 'Open', 'High', 'Low', 'Close', 'AdjClose', 'Volume'])"
   ]
  },
  {
   "cell_type": "code",
   "execution_count": null,
   "metadata": {},
   "outputs": [],
   "source": [
    "spy_data[35:1000]"
   ]
  },
  {
   "cell_type": "code",
   "execution_count": null,
   "metadata": {},
   "outputs": [],
   "source": [
    "count = 0\n",
    "coke_data = pd.read_csv('data/coke.csv', header=0, names = ['datadate', 'tic', 'cshtrd', 'prccd', 'prchd', 'prcld', 'prcod']).dropna()\n"
   ]
  },
  {
   "cell_type": "code",
   "execution_count": null,
   "metadata": {},
   "outputs": [],
   "source": []
  },
  {
   "cell_type": "code",
   "execution_count": null,
   "metadata": {},
   "outputs": [],
   "source": [
    "# Process data.\n",
    "coke_data['datadate'] = pd.to_datetime(coke_data['datadate'], format='%Y%m%d')\n",
    "coke_data['prccd'] = pd.to_numeric(coke_data['prccd']) #closing price\n",
    "coke_data['prcod'] = pd.to_numeric(coke_data['prcod']) #opening price\n",
    "coke_data['prchd'] = pd.to_numeric(coke_data['prchd']) \n",
    "coke_data['prcld'] = pd.to_numeric(coke_data['prcld'])\n",
    "coke_data['cshtrd'] = pd.to_numeric(coke_data['cshtrd'])\n",
    "coke_data"
   ]
  },
  {
   "cell_type": "code",
   "execution_count": null,
   "metadata": {},
   "outputs": [],
   "source": [
    "coke_data.plot('datadate', 'prcod', title='Coke opening stock price from 2006-2021', grid=True)"
   ]
  },
  {
   "cell_type": "code",
   "execution_count": null,
   "metadata": {
    "scrolled": true
   },
   "outputs": [],
   "source": [
    "coke_data.plot('datadate', 'prccd', title='Coke closing stock price from 2006-2021', grid=True)"
   ]
  },
  {
   "cell_type": "markdown",
   "metadata": {},
   "source": [
    "# Compute technical indicators."
   ]
  },
  {
   "cell_type": "code",
   "execution_count": null,
   "metadata": {},
   "outputs": [],
   "source": [
    "#RSI, MACD, OBV, CCI, ADI\n",
    "coke_data['rsi'] = talib.RSI(coke_data['prcod']) #default period of 14 days\n",
    "coke_data['rsi'][:15]"
   ]
  },
  {
   "cell_type": "code",
   "execution_count": null,
   "metadata": {
    "scrolled": true
   },
   "outputs": [],
   "source": [
    "coke_data.plot('datadate', 'rsi', title='Relative Strength Index 2006-2021', grid=True)"
   ]
  },
  {
   "cell_type": "code",
   "execution_count": null,
   "metadata": {},
   "outputs": [],
   "source": [
    "coke_data['macd'], coke_data['macdsignal'], coke_data['macdhist'] = talib.MACD(coke_data['prccd']) # defaults: fastperiod=12, slowperiod=26, signalperiod=9"
   ]
  },
  {
   "cell_type": "code",
   "execution_count": null,
   "metadata": {
    "scrolled": true
   },
   "outputs": [],
   "source": [
    "coke_data.plot('datadate', ['macd', 'macdsignal', 'macdhist'], title='Moving Average Convergence/Divergence 2006-2021', grid=True)"
   ]
  },
  {
   "cell_type": "code",
   "execution_count": null,
   "metadata": {},
   "outputs": [],
   "source": [
    "coke_data['obv'] = talib.OBV(coke_data['prccd'], coke_data['cshtrd'])\n",
    "coke_data.plot('datadate', 'obv', title='On-Balance Volume 2006-2021', grid=True)"
   ]
  },
  {
   "cell_type": "code",
   "execution_count": null,
   "metadata": {},
   "outputs": [],
   "source": [
    "coke_data['cci'] = talib.CCI(coke_data['prchd'], coke_data['prcld'], coke_data['prccd']) #default period: 14 days\n",
    "coke_data.plot('datadate', 'cci', title='Commodity Channel Index 2006-2021', grid=True)"
   ]
  },
  {
   "cell_type": "code",
   "execution_count": null,
   "metadata": {},
   "outputs": [],
   "source": [
    "coke_data['adx'] = talib.ADX(coke_data['prchd'], coke_data['prcld'], coke_data['prccd']) #default period: 14 days\n",
    "coke_data.plot('datadate', 'adx', title='Average Directional Index 2006-2021', grid=True)"
   ]
  },
  {
   "cell_type": "code",
   "execution_count": null,
   "metadata": {},
   "outputs": [],
   "source": [
    "all_data = pd.read_csv('data/allStocks.csv', header=0, names=['gvkey', 'iid', 'Date', 'tic', \n",
    "                                                              'Volume', 'Close', 'High', 'Low', 'Open'])"
   ]
  },
  {
   "cell_type": "code",
   "execution_count": null,
   "metadata": {},
   "outputs": [],
   "source": [
    "stock = []\n",
    "for e in all_data['tic'].unique():\n",
    "    if '.' in e or len(e) > 4:\n",
    "        continue\n",
    "    stock.append(e)"
   ]
  },
  {
   "cell_type": "code",
   "execution_count": null,
   "metadata": {},
   "outputs": [],
   "source": [
    "filtered = all_data.loc[all_data['tic'].isin(stock)]"
   ]
  },
  {
   "cell_type": "code",
   "execution_count": null,
   "metadata": {},
   "outputs": [],
   "source": [
    "filtered.to_csv('data/filtered.csv', index=0)"
   ]
  },
  {
   "cell_type": "code",
   "execution_count": null,
   "metadata": {},
   "outputs": [],
   "source": [
    "fp = pd.read_csv('data/filtered.csv', header=0)\n",
    "fp"
   ]
  },
  {
   "cell_type": "code",
   "execution_count": null,
   "metadata": {},
   "outputs": [],
   "source": [
    "# generate dataframe with technical indicators\n",
    "\n",
    "output = []\n",
    "\n",
    "for s in fp['tic'].unique():\n",
    "    # select all rows with data\n",
    "    df = fp.loc[fp['tic'] == s]\n",
    "    # compute technical indicator\n",
    "    df['rsi'] = talib.RSI(df['Open'])\n",
    "    df['macd'], df['macdsignal'], df['macdhist'] = talib.MACD(df['Close']) # defaults: fastperiod=12, slowperiod=26, signalperiod=9\n",
    "    df['obv'] = talib.OBV(df['Close'], df['Volume'])\n",
    "    df['cci'] = talib.CCI(df['High'], df['Low'], df['Close']) #default period: 14 days\n",
    "    df['adx'] = talib.ADX(df['High'], df['Low'], df['Close']) #default period: 14 days\n",
    "    \n",
    "    output.append(df)\n",
    "    \n",
    "output_df = pd.concat(output)\n",
    "output_df[output_df['tic'] == 'AAR']"
   ]
  },
  {
   "cell_type": "code",
   "execution_count": null,
   "metadata": {},
   "outputs": [],
   "source": [
    "# convert date column to datetime\n",
    "dates = pd.to_datetime(output_df['Date'], format='%Y%m%d', errors='coerce')\n",
    "output_df['Date'] = dates"
   ]
  },
  {
   "cell_type": "code",
   "execution_count": null,
   "metadata": {},
   "outputs": [],
   "source": [
    "output_df[output_df['tic'] == 'AAPL']"
   ]
  },
  {
   "cell_type": "code",
   "execution_count": null,
   "metadata": {},
   "outputs": [],
   "source": [
    "output_df.to_csv('data/filtered_with_ti.csv', index=0)"
   ]
  }
 ],
 "metadata": {
  "kernelspec": {
   "display_name": "Python 3 (ipykernel)",
   "language": "python",
   "name": "python3"
  },
  "language_info": {
   "codemirror_mode": {
    "name": "ipython",
    "version": 3
   },
   "file_extension": ".py",
   "mimetype": "text/x-python",
   "name": "python",
   "nbconvert_exporter": "python",
   "pygments_lexer": "ipython3",
   "version": "3.7.5"
  }
 },
 "nbformat": 4,
 "nbformat_minor": 2
}
