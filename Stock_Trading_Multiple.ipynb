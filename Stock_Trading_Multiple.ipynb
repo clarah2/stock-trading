{
 "cells": [
  {
   "cell_type": "markdown",
   "id": "d9ba7d49",
   "metadata": {},
   "source": [
    "# Stock Trading test"
   ]
  },
  {
   "cell_type": "code",
   "execution_count": null,
   "id": "ffe59e11",
   "metadata": {},
   "outputs": [],
   "source": []
  },
  {
   "cell_type": "code",
   "execution_count": 3,
   "id": "d586073d",
   "metadata": {},
   "outputs": [],
   "source": [
    "import numpy as np\n",
    "import matplotlib.pyplot as plt\n",
    "import time\n",
    "import pandas as pd\n",
    "from elegantrl.train.run_tutorial import *\n",
    "from elegantrl.train.run_parallel import *\n",
    "from elegantrl.train.config import Arguments\n",
    "from elegantrl.agents import AgentPPO, AgentDDPG\n",
    "from stock_env_multiple import StockEnvMultiple\n",
    "\n",
    "np.set_printoptions(formatter={'float': lambda x: \"{0:0.2f}\".format(x)})"
   ]
  },
  {
   "cell_type": "code",
   "execution_count": 4,
   "id": "6117d4fa",
   "metadata": {},
   "outputs": [],
   "source": [
    "tics = pd.read_csv('data/filtered_with_ti.csv', header=0)\n",
    "all_tickers = tics['tic'].unique()\n",
    "daterange = tics[tics['tic'] == 'AAPL']['Date'].to_numpy()"
   ]
  },
  {
   "cell_type": "code",
   "execution_count": 5,
   "id": "c6b5356d",
   "metadata": {},
   "outputs": [],
   "source": [
    "def check_tickers(stock):\n",
    "    return stock in all_tickers\n",
    "\n",
    "def check_date(date):\n",
    "    return date in daterange"
   ]
  },
  {
   "cell_type": "code",
   "execution_count": null,
   "id": "0a0205da",
   "metadata": {},
   "outputs": [],
   "source": [
    "check_date('2008-03-20')"
   ]
  },
  {
   "cell_type": "code",
   "execution_count": 6,
   "id": "8563d057",
   "metadata": {},
   "outputs": [
    {
     "data": {
      "text/plain": [
       "True"
      ]
     },
     "execution_count": 6,
     "metadata": {},
     "output_type": "execute_result"
    }
   ],
   "source": [
    "check_tickers('TSLA')"
   ]
  },
  {
   "cell_type": "code",
   "execution_count": null,
   "id": "fc138145",
   "metadata": {},
   "outputs": [],
   "source": [
    "# Arguments\n"
   ]
  },
  {
   "cell_type": "code",
   "execution_count": 7,
   "id": "154f07e7",
   "metadata": {},
   "outputs": [
    {
     "ename": "NameError",
     "evalue": "name 'tics' is not defined",
     "output_type": "error",
     "traceback": [
      "\u001b[0;31m---------------------------------------------------------------------------\u001b[0m",
      "\u001b[0;31mNameError\u001b[0m                                 Traceback (most recent call last)",
      "\u001b[0;32m/tmp/ipykernel_11568/178618482.py\u001b[0m in \u001b[0;36m<module>\u001b[0;34m\u001b[0m\n\u001b[1;32m     20\u001b[0m \u001b[0;34m\u001b[0m\u001b[0m\n\u001b[1;32m     21\u001b[0m \u001b[0;31m# Environment\u001b[0m\u001b[0;34m\u001b[0m\u001b[0;34m\u001b[0m\u001b[0;34m\u001b[0m\u001b[0m\n\u001b[0;32m---> 22\u001b[0;31m \u001b[0menv\u001b[0m \u001b[0;34m=\u001b[0m \u001b[0mStockEnvMultiple\u001b[0m\u001b[0;34m(\u001b[0m\u001b[0mdaterange\u001b[0m\u001b[0;34m,\u001b[0m \u001b[0mtickers\u001b[0m\u001b[0;34m=\u001b[0m\u001b[0mtickers\u001b[0m\u001b[0;34m,\u001b[0m \u001b[0mbegin_date\u001b[0m\u001b[0;34m=\u001b[0m\u001b[0mstart_date\u001b[0m\u001b[0;34m,\u001b[0m \u001b[0mend_date\u001b[0m\u001b[0;34m=\u001b[0m\u001b[0mend_date\u001b[0m\u001b[0;34m,\u001b[0m \u001b[0minitial_stocks\u001b[0m\u001b[0;34m=\u001b[0m\u001b[0minitial_stocks\u001b[0m\u001b[0;34m)\u001b[0m\u001b[0;34m\u001b[0m\u001b[0;34m\u001b[0m\u001b[0m\n\u001b[0m\u001b[1;32m     23\u001b[0m \u001b[0menv\u001b[0m\u001b[0;34m.\u001b[0m\u001b[0mmax_step\u001b[0m \u001b[0;34m=\u001b[0m \u001b[0;36m100\u001b[0m\u001b[0;34m\u001b[0m\u001b[0;34m\u001b[0m\u001b[0m\n\u001b[1;32m     24\u001b[0m \u001b[0;34m\u001b[0m\u001b[0m\n",
      "\u001b[0;32m~/Code/stock-trading/stock_env_multiple.py\u001b[0m in \u001b[0;36m__init__\u001b[0;34m(self, daterange, tickers, begin_date, end_date, initial_amount, initial_stocks, reward_scaling)\u001b[0m\n\u001b[1;32m     28\u001b[0m         \u001b[0mself\u001b[0m\u001b[0;34m.\u001b[0m\u001b[0mtics\u001b[0m\u001b[0;34m,\u001b[0m \u001b[0mself\u001b[0m\u001b[0;34m.\u001b[0m\u001b[0mopen_price\u001b[0m\u001b[0;34m,\u001b[0m \u001b[0mself\u001b[0m\u001b[0;34m.\u001b[0m\u001b[0mclose_price\u001b[0m\u001b[0;34m,\u001b[0m \u001b[0mself\u001b[0m\u001b[0;34m.\u001b[0m\u001b[0mrsi\u001b[0m\u001b[0;34m,\u001b[0m \u001b[0mself\u001b[0m\u001b[0;34m.\u001b[0m\u001b[0mmacd\u001b[0m\u001b[0;34m,\u001b[0m \u001b[0mself\u001b[0m\u001b[0;34m.\u001b[0m\u001b[0mobv\u001b[0m\u001b[0;34m,\u001b[0m \u001b[0mself\u001b[0m\u001b[0;34m.\u001b[0m\u001b[0mcci\u001b[0m\u001b[0;34m,\u001b[0m \u001b[0mself\u001b[0m\u001b[0;34m.\u001b[0m\u001b[0madx\u001b[0m \u001b[0;34m=\u001b[0m \u001b[0mself\u001b[0m\u001b[0;34m.\u001b[0m\u001b[0m_get_data\u001b[0m\u001b[0;34m(\u001b[0m\u001b[0mself\u001b[0m\u001b[0;34m.\u001b[0m\u001b[0mday\u001b[0m\u001b[0;34m)\u001b[0m\u001b[0;34m\u001b[0m\u001b[0;34m\u001b[0m\u001b[0m\n\u001b[1;32m     29\u001b[0m \u001b[0;34m\u001b[0m\u001b[0m\n\u001b[0;32m---> 30\u001b[0;31m         \u001b[0mprint\u001b[0m\u001b[0;34m(\u001b[0m\u001b[0;34mf'Using stocks: {tics}'\u001b[0m\u001b[0;34m)\u001b[0m\u001b[0;34m\u001b[0m\u001b[0;34m\u001b[0m\u001b[0m\n\u001b[0m\u001b[1;32m     31\u001b[0m \u001b[0;34m\u001b[0m\u001b[0m\n\u001b[1;32m     32\u001b[0m         \u001b[0mself\u001b[0m\u001b[0;34m.\u001b[0m\u001b[0mmax_step\u001b[0m \u001b[0;34m=\u001b[0m \u001b[0mself\u001b[0m\u001b[0;34m.\u001b[0m\u001b[0mdaterange\u001b[0m\u001b[0;34m.\u001b[0m\u001b[0mshape\u001b[0m\u001b[0;34m[\u001b[0m\u001b[0;36m0\u001b[0m\u001b[0;34m]\u001b[0m\u001b[0;34m\u001b[0m\u001b[0;34m\u001b[0m\u001b[0m\n",
      "\u001b[0;31mNameError\u001b[0m: name 'tics' is not defined"
     ]
    }
   ],
   "source": [
    "tickers = ['TSLA']\n",
    "initial_stocks = np.zeros([len(tickers), 1])\n",
    "\n",
    "\n",
    "gamma = 0.99\n",
    "max_stock = 1e2\n",
    "initial_capital = 1e6\n",
    "initial_stocks = np.zeros(len(tickers), dtype=np.float32)\n",
    "\n",
    "start_date = '2006-03-20'\n",
    "end_date = '2008-03-20'\n",
    "start_eval_date = '2016-01-01'\n",
    "end_eval_date = '2021-01-01'\n",
    "\n",
    "# Agent\n",
    "ppo = AgentPPO.AgentPPO() # AgentSAC(), AgentTD3(), AgentDDPG()?\n",
    "ppo.if_use_gae = True\n",
    "ppo.lambda_entropy = 0.04\n",
    "ppo.if_on_policy = True\n",
    "\n",
    "# Environment\n",
    "env = StockEnvMultiple(daterange, tickers=tickers, begin_date=start_date, end_date=end_date, initial_stocks=initial_stocks)\n",
    "env.max_step = 100\n",
    "\n",
    "args = Arguments(env, ppo)\n",
    "\n",
    "\n",
    "# Hyperparameters\n",
    "args.gamma = gamma\n",
    "args.break_step = int(2e5)\n",
    "args.net_dim = 2 ** 9\n",
    "args.max_step = args.env.max_step\n",
    "args.max_memo = args.max_step * 4\n",
    "args.reward_scale = 1e-4\n",
    "args.batch_size = 2 ** 10\n",
    "args.repeat_times = 1\n",
    "args.eval_gap = 2 ** 4\n",
    "args.eval_times1 = 2 ** 3\n",
    "args.eval_times2 = 2 ** 5\n",
    "args.worker_num = 4\n",
    "args.thread_num = 16\n",
    "args.if_allow_break = False\n",
    "args.target_return = 1.1e7\n",
    "args.rollout_num = 6 # the number of rollout workers (larger is not always faster)"
   ]
  },
  {
   "cell_type": "code",
   "execution_count": null,
   "id": "ef9ad54e",
   "metadata": {},
   "outputs": [],
   "source": [
    "a = time.time()\n",
    "train_and_evaluate_mp(args)\n",
    "print(time.time() - a)"
   ]
  },
  {
   "cell_type": "code",
   "execution_count": null,
   "id": "512119c5",
   "metadata": {},
   "outputs": [],
   "source": [
    "args.env.stocks"
   ]
  },
  {
   "cell_type": "code",
   "execution_count": null,
   "id": "40011ab6",
   "metadata": {},
   "outputs": [],
   "source": [
    "start_eval_date = '2016-01-05'\n",
    "end_eval_date = '2021-01-05'\n",
    "\n",
    "agent = AgentPPO.AgentPPO() # AgentSAC(), AgentTD3(), AgentDDPG()?\n",
    "agent.if_use_gae = True\n",
    "agent.lambda_entropy = 0.04\n",
    "\n",
    "initial_stocks = np.zeros([len(tickers)]).tolist()\n",
    "print(initial_stocks)\n",
    "\n",
    "env_eval = StockEnvMultiple(daterange, tickers=tickers,\n",
    "                            begin_date=start_eval_date,\n",
    "                            end_date=end_eval_date, \n",
    "                            initial_stocks=initial_stocks)\n",
    "\n",
    "\n",
    "agent.if_on_policy = False\n",
    "args = Arguments(env_eval, agent)\n",
    "\n",
    "args.if_remove = False\n",
    "args.cwd = './AgentPPO_RLStockEnv-v2_(0,)'\n",
    "args.gamma = gamma\n",
    "args.break_step = int(2e5)\n",
    "args.net_dim = 2 ** 9\n",
    "args.max_step = args.env.max_step\n",
    "args.max_memo = args.max_step * 4\n",
    "args.batch_size = 2 ** 10\n",
    "args.repeat_times = 2 ** 3\n",
    "args.eval_gap = 2 ** 4\n",
    "args.eval_times1 = 2 ** 3\n",
    "args.eval_times2 = 2 ** 5\n",
    "args.if_allow_break = False\n",
    "args.target_return = 1.1e7\n",
    "\n",
    "args.rollout_num = 6 # the number of rollout workers (larger is not always faster)\n",
    "args.init_before_training()\n",
    "\n",
    "env_eval.draw_cumulative_return(args, torch)\n",
    "plt.show()"
   ]
  },
  {
   "cell_type": "code",
   "execution_count": null,
   "id": "9aba3edf",
   "metadata": {},
   "outputs": [],
   "source": [
    "plt.show()"
   ]
  },
  {
   "cell_type": "code",
   "execution_count": null,
   "id": "21be096b",
   "metadata": {},
   "outputs": [],
   "source": []
  }
 ],
 "metadata": {
  "kernelspec": {
   "display_name": "Python 3 (ipykernel)",
   "language": "python",
   "name": "python3"
  },
  "language_info": {
   "codemirror_mode": {
    "name": "ipython",
    "version": 3
   },
   "file_extension": ".py",
   "mimetype": "text/x-python",
   "name": "python",
   "nbconvert_exporter": "python",
   "pygments_lexer": "ipython3",
   "version": "3.7.5"
  }
 },
 "nbformat": 4,
 "nbformat_minor": 5
}
