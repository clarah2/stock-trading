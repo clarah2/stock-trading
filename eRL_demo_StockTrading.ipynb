{
 "cells": [
  {
   "cell_type": "markdown",
   "metadata": {
    "colab_type": "text",
    "id": "view-in-github"
   },
   "source": [
    "<a href=\"https://colab.research.google.com/github/AI4Finance-LLC/ElegantRL/blob/master/eRL_demo_StockTrading.ipynb\" target=\"_parent\"><img src=\"https://colab.research.google.com/assets/colab-badge.svg\" alt=\"Open In Colab\"/></a>"
   ]
  },
  {
   "cell_type": "markdown",
   "metadata": {
    "id": "c1gUG3OCJ5GS"
   },
   "source": [
    "# **Stock Trading Application in ElegantRL**\n",
    "\n",
    "\n",
    "\n",
    "\n"
   ]
  },
  {
   "cell_type": "markdown",
   "metadata": {
    "id": "FGXyBBvL0dR2"
   },
   "source": [
    "# **Part 1: Problem Formulation**\n",
    "Formally, we model stock trading as a Markov Decision Process (MDP), and formulate the trading objective as maximization of expected return:\n",
    "\n",
    "\n",
    "\n",
    "*   **State s = [b, p, h]**: a vector that includes the remaining balance b, stock prices p, and stock shares h. p and h are vectors with D dimension, where D denotes the number of stocks. \n",
    "*   **Action a**: a vector of actions over D stocks. The allowed actions on each stock include selling, buying, or holding, which result in decreasing, increasing, or no change of the stock shares in h, respectively.\n",
    "*   **Reward r(s, a, s’)**: The asset value change of taking action a at state s and arriving at new state s’.\n",
    "*   **Policy π(s)**: The trading strategy at state s, which is a probability distribution of actions at state s.\n",
    "*   **Q-function Q(s, a)**: the expected return (reward) of taking action a at state s following policy π.\n",
    "*   **State-transition**: After taking the actions a, the number of shares h is modified, as shown in Fig 3, and the new portfolio is the summation of the balance and the total value of the stocks."
   ]
  },
  {
   "cell_type": "markdown",
   "metadata": {
    "id": "jESlu_WtD_JS"
   },
   "source": [
    "# **Part 2: Stock Trading Environment Design**\n",
    "\n",
    "**State Space and Action Space**\n",
    "\n",
    "\n",
    "*   **State Space**: We use a 181-dimensional vector consists of seven parts of information to represent the state space of multiple stocks trading environment: [b, p, h, M, R, C, X], where b is the balance, p is the stock prices, h is the number of shares, M is the Moving Average Convergence Divergence (MACD), R is the Relative Strength Index (RSI), C is the Commodity Channel Index (CCI), and X is the Average Directional Index (ADX).\n",
    "*   **Action Space**: As a recap, we have three types of actions: selling, buying, and holding for a single stock. We use the negative value for selling, positive value for buying, and zero for holding. In this case, the action space is defined as {-k, …, -1, 0, 1, …, k}, where k is the maximum share to buy or sell in each transaction.\n",
    "\n",
    "\n",
    "**Easy-to-customize Features**\n",
    "\n",
    "\n",
    "*   **initial_capital**: the initial capital that the user wants to invest.\n",
    "*   **tickers**: the stocks that the user wants to trade with.\n",
    "*   **initial_stocks**: the initial amount of each stock and the default could be zero.\n",
    "*   **buy_cost_pct, sell_cost_pct**: the transaction fee of each buying or selling transaction.\n",
    "*   **max_stock**: the user is able to define the maximum number of stocks that are allowed to trade per transaction. Users can also set the maximum percentage of capitals to invest in each stock.\n",
    "*   **tech_indicator_list**: the list of financial indicators that are taken into account, which is used to define a state.\n",
    "*   **start_date, start_eval_date, end_eval_date**: the training and backtesting time intervals. Thee time dates (or timestamps) are used, once the training period is specified, the rest is backtesting.\n"
   ]
  },
  {
   "cell_type": "markdown",
   "metadata": {
    "id": "DbamGVHC3AeW"
   },
   "source": [
    "# **Part 3: Install ElegantRL and related packages**"
   ]
  },
  {
   "cell_type": "code",
   "execution_count": 2,
   "metadata": {
    "colab": {
     "base_uri": "https://localhost:8080/"
    },
    "id": "U35bhkUqOqbS",
    "outputId": "e67021c0-4daf-408c-f6c2-e34b442ad45a"
   },
   "outputs": [
    {
     "name": "stdout",
     "output_type": "stream",
     "text": [
      "Collecting git+https://github.com/AI4Finance-LLC/ElegantRL.git\n",
      "  Cloning https://github.com/AI4Finance-LLC/ElegantRL.git to /tmp/pip-req-build-xppyc46a\n",
      "  Running command git clone --filter=blob:none -q https://github.com/AI4Finance-LLC/ElegantRL.git /tmp/pip-req-build-xppyc46a\n",
      "  Resolved https://github.com/AI4Finance-LLC/ElegantRL.git to commit 22e0efccb6ce099e6cd6f90e67bb65fb60bfa70e\n",
      "  Preparing metadata (setup.py) ... \u001b[?25ldone\n",
      "\u001b[?25hCollecting gym\n",
      "  Using cached gym-0.21.0.tar.gz (1.5 MB)\n",
      "  Preparing metadata (setup.py) ... \u001b[?25ldone\n",
      "\u001b[?25hCollecting matplotlib\n",
      "  Downloading matplotlib-3.4.3-cp37-cp37m-manylinux1_x86_64.whl (10.3 MB)\n",
      "     |████████████████████████████████| 10.3 MB 7.7 MB/s            \n",
      "\u001b[?25hCollecting numpy\n",
      "  Downloading numpy-1.21.3-cp37-cp37m-manylinux_2_12_x86_64.manylinux2010_x86_64.whl (15.7 MB)\n",
      "     |████████████████████████████████| 15.7 MB 7.7 MB/s            \n",
      "\u001b[?25hCollecting pybullet\n",
      "  Downloading pybullet-3.2.0-cp37-cp37m-manylinux1_x86_64.whl (89.3 MB)\n",
      "     |████████████████████████████████| 89.3 MB 313 kB/s            \n",
      "\u001b[?25hCollecting torch\n",
      "  Downloading torch-1.10.0-cp37-cp37m-manylinux1_x86_64.whl (881.9 MB)\n",
      "     |████████████████████████████████| 881.9 MB 51 kB/s             \n",
      "\u001b[?25hCollecting opencv-python\n",
      "  Downloading opencv_python-4.5.4.58-cp37-cp37m-manylinux2014_x86_64.whl (60.3 MB)\n",
      "     |████████████████████████████████| 60.3 MB 5.6 MB/s            \n",
      "\u001b[?25hCollecting box2d-py\n",
      "  Downloading box2d_py-2.3.8-cp37-cp37m-manylinux1_x86_64.whl (448 kB)\n",
      "     |████████████████████████████████| 448 kB 5.7 MB/s            \n",
      "\u001b[?25hCollecting cloudpickle>=1.2.0\n",
      "  Using cached cloudpickle-2.0.0-py3-none-any.whl (25 kB)\n",
      "Requirement already satisfied: importlib_metadata>=4.8.1 in /home/mohammadsaad/envs/stocks/lib/python3.7/site-packages (from gym->elegantrl==0.3.2) (4.8.1)\n",
      "Collecting pillow>=6.2.0\n",
      "  Downloading Pillow-8.4.0-cp37-cp37m-manylinux_2_17_x86_64.manylinux2014_x86_64.whl (3.1 MB)\n",
      "     |████████████████████████████████| 3.1 MB 6.8 MB/s            \n",
      "\u001b[?25hCollecting kiwisolver>=1.0.1\n",
      "  Downloading kiwisolver-1.3.2-cp37-cp37m-manylinux_2_5_x86_64.manylinux1_x86_64.whl (1.1 MB)\n",
      "     |████████████████████████████████| 1.1 MB 4.4 MB/s            \n",
      "\u001b[?25hCollecting cycler>=0.10\n",
      "  Using cached cycler-0.11.0-py3-none-any.whl (6.4 kB)\n",
      "Requirement already satisfied: pyparsing>=2.2.1 in /home/mohammadsaad/envs/stocks/lib/python3.7/site-packages (from matplotlib->elegantrl==0.3.2) (2.4.7)\n",
      "Requirement already satisfied: python-dateutil>=2.7 in /home/mohammadsaad/envs/stocks/lib/python3.7/site-packages (from matplotlib->elegantrl==0.3.2) (2.8.2)\n",
      "Requirement already satisfied: typing-extensions in /home/mohammadsaad/envs/stocks/lib/python3.7/site-packages (from torch->elegantrl==0.3.2) (3.10.0.2)\n",
      "Requirement already satisfied: zipp>=0.5 in /home/mohammadsaad/envs/stocks/lib/python3.7/site-packages (from importlib_metadata>=4.8.1->gym->elegantrl==0.3.2) (3.6.0)\n",
      "Requirement already satisfied: six>=1.5 in /home/mohammadsaad/envs/stocks/lib/python3.7/site-packages (from python-dateutil>=2.7->matplotlib->elegantrl==0.3.2) (1.16.0)\n",
      "Building wheels for collected packages: elegantrl, gym\n",
      "  Building wheel for elegantrl (setup.py) ... \u001b[?25ldone\n",
      "\u001b[?25h  Created wheel for elegantrl: filename=elegantrl-0.3.2-py3-none-any.whl size=77377 sha256=fa6aadcc0d129735ecf928f7f07b99b68fac989b0be526e4f17ec88137ee4f81\n",
      "  Stored in directory: /tmp/pip-ephem-wheel-cache-knmfiu5h/wheels/52/9a/b3/08c8a0b5be22a65da0132538c05e7e961b1253c90d6845e0c6\n",
      "  Building wheel for gym (setup.py) ... \u001b[?25ldone\n",
      "\u001b[?25h  Created wheel for gym: filename=gym-0.21.0-py3-none-any.whl size=1616822 sha256=9cb4159490caf213210a2f810fbeb9d33d7d2fe39caa7372c04df9993ce0768a\n",
      "  Stored in directory: /home/mohammadsaad/.cache/pip/wheels/76/ee/9c/36bfe3e079df99acf5ae57f4e3464ff2771b34447d6d2f2148\n",
      "Successfully built elegantrl gym\n",
      "Installing collected packages: pillow, numpy, kiwisolver, cycler, cloudpickle, torch, pybullet, opencv-python, matplotlib, gym, box2d-py, elegantrl\n",
      "Successfully installed box2d-py-2.3.8 cloudpickle-2.0.0 cycler-0.11.0 elegantrl-0.3.2 gym-0.21.0 kiwisolver-1.3.2 matplotlib-3.4.3 numpy-1.21.3 opencv-python-4.5.4.58 pillow-8.4.0 pybullet-3.2.0 torch-1.10.0\n",
      "Collecting yfinance\n",
      "  Using cached yfinance-0.1.64.tar.gz (26 kB)\n",
      "  Preparing metadata (setup.py) ... \u001b[?25ldone\n",
      "\u001b[?25hCollecting stockstats\n",
      "  Using cached stockstats-0.3.2-py2.py3-none-any.whl (13 kB)\n",
      "Collecting pandas>=0.24\n",
      "  Downloading pandas-1.3.4-cp37-cp37m-manylinux_2_17_x86_64.manylinux2014_x86_64.whl (11.3 MB)\n",
      "     |████████████████████████████████| 11.3 MB 7.6 MB/s            \n",
      "\u001b[?25hRequirement already satisfied: numpy>=1.15 in /home/mohammadsaad/envs/stocks/lib/python3.7/site-packages (from yfinance) (1.21.3)\n",
      "Collecting requests>=2.20\n",
      "  Using cached requests-2.26.0-py2.py3-none-any.whl (62 kB)\n",
      "Collecting multitasking>=0.0.7\n",
      "  Using cached multitasking-0.0.9.tar.gz (8.1 kB)\n",
      "  Preparing metadata (setup.py) ... \u001b[?25ldone\n",
      "\u001b[?25hCollecting lxml>=4.5.1\n",
      "  Downloading lxml-4.6.3-cp37-cp37m-manylinux2014_x86_64.whl (6.3 MB)\n",
      "     |████████████████████████████████| 6.3 MB 8.6 MB/s            \n",
      "\u001b[?25hCollecting int-date>=0.1.7\n",
      "  Using cached int_date-0.1.8-py2.py3-none-any.whl (5.0 kB)\n",
      "Requirement already satisfied: python-dateutil>=2.4.2 in /home/mohammadsaad/envs/stocks/lib/python3.7/site-packages (from int-date>=0.1.7->stockstats) (2.8.2)\n",
      "Requirement already satisfied: six>=1.9.0 in /home/mohammadsaad/envs/stocks/lib/python3.7/site-packages (from int-date>=0.1.7->stockstats) (1.16.0)\n",
      "Collecting pytz>=2017.3\n",
      "  Using cached pytz-2021.3-py2.py3-none-any.whl (503 kB)\n",
      "Collecting charset-normalizer~=2.0.0\n",
      "  Using cached charset_normalizer-2.0.7-py3-none-any.whl (38 kB)\n",
      "Collecting urllib3<1.27,>=1.21.1\n",
      "  Using cached urllib3-1.26.7-py2.py3-none-any.whl (138 kB)\n",
      "Collecting idna<4,>=2.5\n",
      "  Using cached idna-3.3-py3-none-any.whl (61 kB)\n",
      "Collecting certifi>=2017.4.17\n",
      "  Using cached certifi-2021.10.8-py2.py3-none-any.whl (149 kB)\n",
      "Building wheels for collected packages: yfinance, multitasking\n",
      "  Building wheel for yfinance (setup.py) ... \u001b[?25ldone\n",
      "\u001b[?25h  Created wheel for yfinance: filename=yfinance-0.1.64-py2.py3-none-any.whl size=24109 sha256=10957217a6806b302c4a5d4c60d2565aa2002df66462bdb51661f5165283b3cd\n",
      "  Stored in directory: /home/mohammadsaad/.cache/pip/wheels/86/fe/9b/a4d3d78796b699e37065e5b6c27b75cff448ddb8b24943c288\n",
      "  Building wheel for multitasking (setup.py) ... \u001b[?25ldone\n",
      "\u001b[?25h  Created wheel for multitasking: filename=multitasking-0.0.9-py3-none-any.whl size=8375 sha256=c391cd9c5115b694c7f06061d6b81abfe4b377bf031242d77bd401f7e4eefe2a\n",
      "  Stored in directory: /home/mohammadsaad/.cache/pip/wheels/ae/25/47/4d68431a7ec1b6c4b5233365934b74c1d4e665bf5f968d363a\n",
      "Successfully built yfinance multitasking\n",
      "Installing collected packages: urllib3, pytz, idna, charset-normalizer, certifi, requests, pandas, multitasking, lxml, int-date, yfinance, stockstats\n",
      "Successfully installed certifi-2021.10.8 charset-normalizer-2.0.7 idna-3.3 int-date-0.1.8 lxml-4.6.3 multitasking-0.0.9 pandas-1.3.4 pytz-2021.3 requests-2.26.0 stockstats-0.3.2 urllib3-1.26.7 yfinance-0.1.64\n"
     ]
    }
   ],
   "source": [
    "!pip install git+https://github.com/AI4Finance-LLC/ElegantRL.git\n",
    "!pip install yfinance stockstats"
   ]
  },
  {
   "cell_type": "code",
   "execution_count": 3,
   "metadata": {},
   "outputs": [
    {
     "name": "stdout",
     "output_type": "stream",
     "text": [
      "3.7.5 (default, Feb 23 2021, 13:22:40) \n",
      "[GCC 8.4.0]\n",
      "argcomplete==1.12.3\n",
      "argon2-cffi==21.1.0\n",
      "attrs==21.2.0\n",
      "backcall==0.2.0\n",
      "bleach==4.1.0\n",
      "box2d-py==2.3.8\n",
      "certifi==2021.10.8\n",
      "cffi==1.15.0\n",
      "charset-normalizer==2.0.7\n",
      "cloudpickle==2.0.0\n",
      "cycler==0.11.0\n",
      "debugpy==1.5.1\n",
      "decorator==5.1.0\n",
      "defusedxml==0.7.1\n",
      "elegantrl @ git+https://github.com/AI4Finance-LLC/ElegantRL.git@22e0efccb6ce099e6cd6f90e67bb65fb60bfa70e\n",
      "entrypoints==0.3\n",
      "gym==0.21.0\n",
      "idna==3.3\n",
      "importlib-metadata==4.8.1\n",
      "int-date==0.1.8\n",
      "ipykernel==6.4.2\n",
      "ipython==7.29.0\n",
      "ipython-genutils==0.2.0\n",
      "ipywidgets==7.6.5\n",
      "jedi==0.18.0\n",
      "Jinja2==3.0.2\n",
      "jsonschema==4.1.2\n",
      "jupyter==1.0.0\n",
      "jupyter-client==7.0.6\n",
      "jupyter-console==6.4.0\n",
      "jupyter-core==4.9.1\n",
      "jupyterlab-pygments==0.1.2\n",
      "jupyterlab-widgets==1.0.2\n",
      "kiwisolver==1.3.2\n",
      "lxml==4.6.3\n",
      "MarkupSafe==2.0.1\n",
      "matplotlib==3.4.3\n",
      "matplotlib-inline==0.1.3\n",
      "mistune==0.8.4\n",
      "multitasking==0.0.9\n",
      "nbclient==0.5.4\n",
      "nbconvert==6.2.0\n",
      "nbformat==5.1.3\n",
      "nest-asyncio==1.5.1\n",
      "notebook==6.4.5\n",
      "numpy==1.21.3\n",
      "opencv-python==4.5.4.58\n",
      "packaging==21.2\n",
      "pandas==1.3.4\n",
      "pandocfilters==1.5.0\n",
      "parso==0.8.2\n",
      "pexpect==4.8.0\n",
      "pickleshare==0.7.5\n",
      "Pillow==8.4.0\n",
      "pkg_resources==0.0.0\n",
      "prometheus-client==0.12.0\n",
      "prompt-toolkit==3.0.21\n",
      "ptyprocess==0.7.0\n",
      "pybullet==3.2.0\n",
      "pycparser==2.20\n",
      "Pygments==2.10.0\n",
      "pyparsing==2.4.7\n",
      "pyrsistent==0.18.0\n",
      "python-dateutil==2.8.2\n",
      "pytz==2021.3\n",
      "pyzmq==22.3.0\n",
      "qtconsole==5.1.1\n",
      "QtPy==1.11.2\n",
      "requests==2.26.0\n",
      "Send2Trash==1.8.0\n",
      "six==1.16.0\n",
      "stockstats==0.3.2\n",
      "terminado==0.12.1\n",
      "testpath==0.5.0\n",
      "torch==1.10.0\n",
      "tornado==6.1\n",
      "traitlets==5.1.1\n",
      "typing-extensions==3.10.0.2\n",
      "urllib3==1.26.7\n",
      "wcwidth==0.2.5\n",
      "webencodings==0.5.1\n",
      "widgetsnbextension==3.5.2\n",
      "yfinance==0.1.64\n",
      "zipp==3.6.0\n",
      "['/home/mohammadsaad/Code/stock-trading', '/home/mohammadsaad/envs/stocks/lib/python37.zip', '/home/mohammadsaad/envs/stocks/lib/python3.7', '/home/mohammadsaad/envs/stocks/lib/python3.7/lib-dynload', '/usr/lib/python3.7', '', '/home/mohammadsaad/envs/stocks/lib/python3.7/site-packages', '/home/mohammadsaad/envs/stocks/lib/python3.7/site-packages/IPython/extensions', '/home/mohammadsaad/.ipython']\n"
     ]
    }
   ],
   "source": [
    "import sys\n",
    "import os\n",
    "print(sys.version)\n",
    "!pip freeze\n",
    "\n",
    "\n",
    "print(sys.path)"
   ]
  },
  {
   "cell_type": "code",
   "execution_count": 4,
   "metadata": {},
   "outputs": [
    {
     "ename": "AttributeError",
     "evalue": "module 'site' has no attribute 'getsitepackages'",
     "output_type": "error",
     "traceback": [
      "\u001b[0;31m---------------------------------------------------------------------------\u001b[0m",
      "\u001b[0;31mAttributeError\u001b[0m                            Traceback (most recent call last)",
      "\u001b[0;32m/tmp/ipykernel_20396/1540611235.py\u001b[0m in \u001b[0;36m<module>\u001b[0;34m\u001b[0m\n\u001b[1;32m      1\u001b[0m \u001b[0;32mimport\u001b[0m \u001b[0msite\u001b[0m\u001b[0;34m\u001b[0m\u001b[0;34m\u001b[0m\u001b[0m\n\u001b[0;32m----> 2\u001b[0;31m \u001b[0mprint\u001b[0m\u001b[0;34m(\u001b[0m\u001b[0msite\u001b[0m\u001b[0;34m.\u001b[0m\u001b[0mgetsitepackages\u001b[0m\u001b[0;34m(\u001b[0m\u001b[0;34m)\u001b[0m\u001b[0;34m)\u001b[0m\u001b[0;34m\u001b[0m\u001b[0;34m\u001b[0m\u001b[0m\n\u001b[0m",
      "\u001b[0;31mAttributeError\u001b[0m: module 'site' has no attribute 'getsitepackages'"
     ]
    }
   ],
   "source": [
    "import site\n",
    "print(site.getsitepackages())"
   ]
  },
  {
   "cell_type": "markdown",
   "metadata": {
    "id": "UVdmpnK_3Zcn"
   },
   "source": [
    "# **Part 4: Import Packages**\n",
    "\n",
    "\n",
    "*   **ElegantRL**\n",
    "*   **yfinance**: yfinance aims to solve this problem by offering a reliable, threaded, and Pythonic way to download historical market data from Yahoo! finance.\n",
    "*   **StockDataFrame**: stockstats inherits and extends pandas.DataFrame to support Stock Statistics and Stock Indicators.\n",
    "\n"
   ]
  },
  {
   "cell_type": "code",
   "execution_count": 5,
   "metadata": {
    "id": "1VM1xKujoz-6"
   },
   "outputs": [],
   "source": [
    "from elegantrl.run import *\n",
    "from elegantrl.agent import AgentPPO, AgentDDPG\n",
    "from elegantrl.envs.FinRL.StockTrading import StockTradingEnv, check_stock_trading_env\n",
    "import yfinance as yf\n",
    "from stockstats import StockDataFrame as Sdf"
   ]
  },
  {
   "cell_type": "markdown",
   "metadata": {
    "id": "3n8zcgcn14uq"
   },
   "source": [
    "# **Part 5: Specify Agent and Environment**\n",
    "\n",
    "*   **args.agent**: firstly chooses one DRL algorithm to use from agent.py. In this application, we prefer to choose DDPG and PPO agent.\n",
    "*   **args.env**: creates the environment, and the user can either customize own environment or preprocess environments from OpenAI Gym and PyBullet Gym from env.py. In this application, we create the self-designed stock trading environment.\n",
    "\n",
    "\n",
    "> Before finishing initialization of **args**, please see Arguments() in run.py for more details about adjustable hyper-parameters.\n",
    "\n",
    "\n"
   ]
  },
  {
   "cell_type": "code",
   "execution_count": 7,
   "metadata": {
    "colab": {
     "base_uri": "https://localhost:8080/"
    },
    "id": "E03f6cTeajK4",
    "outputId": "2e47cb16-baa0-487d-ca71-ac6c2d249e6b"
   },
   "outputs": [],
   "source": [
    "# Environment\n",
    "\"\"\"\n",
    "tickers = [\n",
    "  'AAPL', 'ADBE', 'ADI', 'ADP', 'ADSK', 'ALGN', 'ALXN', 'AMAT', 'AMD', 'AMGN',\n",
    "  'AMZN', 'ASML', 'ATVI', 'BIIB', 'BKNG', 'BMRN', 'CDNS', 'CERN', 'CHKP', 'CMCSA',\n",
    "  'COST', 'CSCO', 'CSX', 'CTAS', 'CTSH', 'CTXS', 'DLTR', 'EA', 'EBAY', 'FAST',\n",
    "  'FISV', 'GILD', 'HAS', 'HSIC', 'IDXX', 'ILMN', 'INCY', 'INTC', 'INTU', 'ISRG',\n",
    "  'JBHT', 'KLAC', 'LRCX', 'MAR', 'MCHP', 'MDLZ', 'MNST', 'MSFT', 'MU', 'MXIM',\n",
    "  'NLOK', 'NTAP', 'NTES', 'NVDA', 'ORLY', 'PAYX', 'PCAR', 'PEP', 'QCOM', 'REGN',\n",
    "  'ROST', 'SBUX', 'SIRI', 'SNPS', 'SWKS', 'TTWO', 'TXN', 'VRSN', 'VRTX', 'WBA',\n",
    "  'WDC', 'WLTW', 'XEL', 'XLNX']  # finrl.config.NAS_74_TICKER\n",
    "\"\"\"\n",
    "\n",
    "tickers = ['COKE', 'AAPL']\n",
    "\n",
    "tech_indicator_list = [\n",
    "  'macd', 'boll_ub', 'boll_lb', 'rsi_30', 'cci_30', 'dx_30',\n",
    "  'close_30_sma', 'close_60_sma']  # finrl.config.TECHNICAL_INDICATORS_LIST\n",
    "\n",
    "gamma = 0.99\n",
    "max_stock = 1e2\n",
    "initial_capital = 1e6\n",
    "initial_stocks = np.zeros(len(tickers), dtype=np.float32)\n",
    "buy_cost_pct = 1e-3\n",
    "sell_cost_pct = 1e-3\n",
    "start_date = '2008-03-19'\n",
    "start_eval_date = '2016-01-01'\n",
    "end_eval_date = '2021-01-01'\n",
    "\n",
    "# Agent\n",
    "agent = AgentPPO() # AgentSAC(), AgentTD3(), AgentDDPG()\n",
    "agent.if_use_gae = True\n",
    "agent.lambda_entropy = 0.04\n",
    "agent.if_on_policy = True\n",
    "\n",
    "# Environment\n",
    "env = StockTradingEnv('./', gamma, max_stock, initial_capital, buy_cost_pct, \n",
    "                           sell_cost_pct, start_date, start_eval_date, \n",
    "                           end_eval_date, tickers, tech_indicator_list, \n",
    "                           initial_stocks, if_eval=False)\n",
    "env_eval = StockTradingEnv('./', gamma, max_stock, initial_capital, buy_cost_pct, \n",
    "                           sell_cost_pct, start_date, start_eval_date, \n",
    "                           end_eval_date, tickers, tech_indicator_list, \n",
    "                           initial_stocks, if_eval=True)\n",
    "\n",
    "env.target_reward = 3\n",
    "env_eval.target_reward = 3\n",
    "\n",
    "args = Arguments(env, agent)\n",
    "\n",
    "\n",
    "\n",
    "\n",
    "# Hyperparameters\n",
    "args.gamma = gamma\n",
    "args.break_step = int(2e5)\n",
    "args.net_dim = 2 ** 9\n",
    "args.max_step = args.env.max_step\n",
    "args.max_memo = args.max_step * 4\n",
    "args.batch_size = 2 ** 10\n",
    "args.repeat_times = 2 ** 3\n",
    "args.eval_gap = 2 ** 4\n",
    "args.eval_times1 = 2 ** 3\n",
    "args.eval_times2 = 2 ** 5\n",
    "args.if_allow_break = False\n",
    "args.rollout_num = 2 # the number of rollout workers (larger is not always faster)"
   ]
  },
  {
   "cell_type": "markdown",
   "metadata": {
    "id": "z1j5kLHF2dhJ"
   },
   "source": [
    "# **Part 6: Train and Evaluate the Agent**\n",
    "\n",
    "> The training and evaluating processes are all finished inside function **train_and_evaluate_mp()**, and the only parameter for it is **args**. It includes the fundamental objects in DRL:\n",
    "\n",
    "*   agent,\n",
    "*   environment.\n",
    "\n",
    "> And it also includes the parameters for training-control:\n",
    "\n",
    "*   batch_size,\n",
    "*   target_step,\n",
    "*   reward_scale,\n",
    "*   gamma, etc.\n",
    "\n",
    "> The parameters for evaluation-control:\n",
    "\n",
    "*   break_step,\n",
    "*   random_seed, etc.\n",
    "\n",
    "\n",
    "\n",
    "\n"
   ]
  },
  {
   "cell_type": "code",
   "execution_count": 9,
   "metadata": {
    "colab": {
     "base_uri": "https://localhost:8080/"
    },
    "id": "KGOPSD6da23k",
    "outputId": "2fdbfc4b-80a2-4659-ace5-b3bde0f36d8e"
   },
   "outputs": [
    {
     "name": "stdout",
     "output_type": "stream",
     "text": [
      "| Remove cwd: ./AgentPPO_StockTradingEnv-v1_(0,)\n"
     ]
    },
    {
     "name": "stderr",
     "output_type": "stream",
     "text": [
      "Process Process-8:\n",
      "Traceback (most recent call last):\n",
      "  File \"/usr/lib/python3.7/multiprocessing/process.py\", line 297, in _bootstrap\n",
      "    self.run()\n",
      "  File \"/usr/lib/python3.7/multiprocessing/process.py\", line 99, in run\n",
      "    self._target(*self._args, **self._kwargs)\n",
      "  File \"/home/mohammadsaad/envs/stocks/lib/python3.7/site-packages/elegantrl/run.py\", line 463, in run\n",
      "    learning_rate=args.learning_rate, if_per_or_gae=args.if_per_or_gae)\n",
      "  File \"/home/mohammadsaad/envs/stocks/lib/python3.7/site-packages/elegantrl/agent.py\", line 950, in init\n",
      "    AgentBase.init(self, net_dim, state_dim, action_dim, learning_rate, if_per_or_gae, env_num, gpu_id)\n",
      "  File \"/home/mohammadsaad/envs/stocks/lib/python3.7/site-packages/elegantrl/agent.py\", line 68, in init\n",
      "    self.cri = self.ClassCri(int(net_dim * 1.25), state_dim, action_dim).to(self.device)\n",
      "  File \"/home/mohammadsaad/envs/stocks/lib/python3.7/site-packages/torch/nn/modules/module.py\", line 899, in to\n",
      "    return self._apply(convert)\n",
      "  File \"/home/mohammadsaad/envs/stocks/lib/python3.7/site-packages/torch/nn/modules/module.py\", line 570, in _apply\n",
      "    module._apply(fn)\n",
      "  File \"/home/mohammadsaad/envs/stocks/lib/python3.7/site-packages/torch/nn/modules/module.py\", line 570, in _apply\n",
      "    module._apply(fn)\n",
      "  File \"/home/mohammadsaad/envs/stocks/lib/python3.7/site-packages/torch/nn/modules/module.py\", line 570, in _apply\n",
      "    module._apply(fn)\n",
      "  File \"/home/mohammadsaad/envs/stocks/lib/python3.7/site-packages/torch/nn/modules/module.py\", line 593, in _apply\n",
      "    param_applied = fn(param)\n",
      "  File \"/home/mohammadsaad/envs/stocks/lib/python3.7/site-packages/torch/nn/modules/module.py\", line 897, in convert\n",
      "    return t.to(device, dtype if t.is_floating_point() or t.is_complex() else None, non_blocking)\n",
      "RuntimeError: CUDA error: out of memory\n",
      "CUDA kernel errors might be asynchronously reported at some other API call,so the stacktrace below might be incorrect.\n",
      "For debugging consider passing CUDA_LAUNCH_BLOCKING=1.\n",
      "Process Process-7:\n",
      "Traceback (most recent call last):\n",
      "  File \"/usr/lib/python3.7/multiprocessing/process.py\", line 297, in _bootstrap\n",
      "    self.run()\n",
      "  File \"/usr/lib/python3.7/multiprocessing/process.py\", line 99, in run\n",
      "    self._target(*self._args, **self._kwargs)\n",
      "  File \"/home/mohammadsaad/envs/stocks/lib/python3.7/site-packages/elegantrl/run.py\", line 290, in run\n",
      "    learning_rate=args.learning_rate, if_per_or_gae=args.if_per_or_gae)\n",
      "  File \"/home/mohammadsaad/envs/stocks/lib/python3.7/site-packages/elegantrl/agent.py\", line 950, in init\n",
      "    AgentBase.init(self, net_dim, state_dim, action_dim, learning_rate, if_per_or_gae, env_num, gpu_id)\n",
      "  File \"/home/mohammadsaad/envs/stocks/lib/python3.7/site-packages/elegantrl/agent.py\", line 68, in init\n",
      "    self.cri = self.ClassCri(int(net_dim * 1.25), state_dim, action_dim).to(self.device)\n",
      "  File \"/home/mohammadsaad/envs/stocks/lib/python3.7/site-packages/torch/nn/modules/module.py\", line 899, in to\n",
      "    return self._apply(convert)\n",
      "  File \"/home/mohammadsaad/envs/stocks/lib/python3.7/site-packages/torch/nn/modules/module.py\", line 570, in _apply\n",
      "    module._apply(fn)\n",
      "  File \"/home/mohammadsaad/envs/stocks/lib/python3.7/site-packages/torch/nn/modules/module.py\", line 570, in _apply\n",
      "    module._apply(fn)\n",
      "  File \"/home/mohammadsaad/envs/stocks/lib/python3.7/site-packages/torch/nn/modules/module.py\", line 570, in _apply\n",
      "    module._apply(fn)\n",
      "  File \"/home/mohammadsaad/envs/stocks/lib/python3.7/site-packages/torch/nn/modules/module.py\", line 593, in _apply\n",
      "    param_applied = fn(param)\n",
      "  File \"/home/mohammadsaad/envs/stocks/lib/python3.7/site-packages/torch/nn/modules/module.py\", line 897, in convert\n",
      "    return t.to(device, dtype if t.is_floating_point() or t.is_complex() else None, non_blocking)\n",
      "RuntimeError: CUDA error: out of memory\n",
      "CUDA kernel errors might be asynchronously reported at some other API call,so the stacktrace below might be incorrect.\n",
      "For debugging consider passing CUDA_LAUNCH_BLOCKING=1.\n",
      "Process Process-6:\n",
      "Traceback (most recent call last):\n",
      "  File \"/usr/lib/python3.7/multiprocessing/process.py\", line 297, in _bootstrap\n",
      "    self.run()\n",
      "  File \"/usr/lib/python3.7/multiprocessing/process.py\", line 99, in run\n",
      "    self._target(*self._args, **self._kwargs)\n",
      "  File \"/home/mohammadsaad/envs/stocks/lib/python3.7/site-packages/elegantrl/run.py\", line 290, in run\n",
      "    learning_rate=args.learning_rate, if_per_or_gae=args.if_per_or_gae)\n",
      "  File \"/home/mohammadsaad/envs/stocks/lib/python3.7/site-packages/elegantrl/agent.py\", line 950, in init\n",
      "    AgentBase.init(self, net_dim, state_dim, action_dim, learning_rate, if_per_or_gae, env_num, gpu_id)\n",
      "  File \"/home/mohammadsaad/envs/stocks/lib/python3.7/site-packages/elegantrl/agent.py\", line 68, in init\n",
      "    self.cri = self.ClassCri(int(net_dim * 1.25), state_dim, action_dim).to(self.device)\n",
      "  File \"/home/mohammadsaad/envs/stocks/lib/python3.7/site-packages/torch/nn/modules/module.py\", line 899, in to\n",
      "    return self._apply(convert)\n",
      "  File \"/home/mohammadsaad/envs/stocks/lib/python3.7/site-packages/torch/nn/modules/module.py\", line 570, in _apply\n",
      "    module._apply(fn)\n",
      "  File \"/home/mohammadsaad/envs/stocks/lib/python3.7/site-packages/torch/nn/modules/module.py\", line 570, in _apply\n",
      "    module._apply(fn)\n",
      "  File \"/home/mohammadsaad/envs/stocks/lib/python3.7/site-packages/torch/nn/modules/module.py\", line 570, in _apply\n",
      "    module._apply(fn)\n",
      "  File \"/home/mohammadsaad/envs/stocks/lib/python3.7/site-packages/torch/nn/modules/module.py\", line 593, in _apply\n",
      "    param_applied = fn(param)\n",
      "  File \"/home/mohammadsaad/envs/stocks/lib/python3.7/site-packages/torch/nn/modules/module.py\", line 897, in convert\n",
      "    return t.to(device, dtype if t.is_floating_point() or t.is_complex() else None, non_blocking)\n",
      "RuntimeError: CUDA error: out of memory\n",
      "CUDA kernel errors might be asynchronously reported at some other API call,so the stacktrace below might be incorrect.\n",
      "For debugging consider passing CUDA_LAUNCH_BLOCKING=1.\n",
      "Process Process-5:\n",
      "Traceback (most recent call last):\n",
      "  File \"/usr/lib/python3.7/multiprocessing/process.py\", line 297, in _bootstrap\n",
      "    self.run()\n",
      "  File \"/usr/lib/python3.7/multiprocessing/process.py\", line 99, in run\n",
      "    self._target(*self._args, **self._kwargs)\n",
      "  File \"/home/mohammadsaad/envs/stocks/lib/python3.7/site-packages/elegantrl/run.py\", line 565, in run\n",
      "    learning_rate=args.learning_rate, if_per_or_gae=args.if_per_or_gae)\n",
      "  File \"/home/mohammadsaad/envs/stocks/lib/python3.7/site-packages/elegantrl/agent.py\", line 950, in init\n",
      "    AgentBase.init(self, net_dim, state_dim, action_dim, learning_rate, if_per_or_gae, env_num, gpu_id)\n",
      "  File \"/home/mohammadsaad/envs/stocks/lib/python3.7/site-packages/elegantrl/agent.py\", line 68, in init\n",
      "    self.cri = self.ClassCri(int(net_dim * 1.25), state_dim, action_dim).to(self.device)\n",
      "  File \"/home/mohammadsaad/envs/stocks/lib/python3.7/site-packages/torch/nn/modules/module.py\", line 899, in to\n",
      "    return self._apply(convert)\n",
      "  File \"/home/mohammadsaad/envs/stocks/lib/python3.7/site-packages/torch/nn/modules/module.py\", line 570, in _apply\n",
      "    module._apply(fn)\n",
      "  File \"/home/mohammadsaad/envs/stocks/lib/python3.7/site-packages/torch/nn/modules/module.py\", line 570, in _apply\n",
      "    module._apply(fn)\n",
      "  File \"/home/mohammadsaad/envs/stocks/lib/python3.7/site-packages/torch/nn/modules/module.py\", line 570, in _apply\n",
      "    module._apply(fn)\n",
      "  File \"/home/mohammadsaad/envs/stocks/lib/python3.7/site-packages/torch/nn/modules/module.py\", line 593, in _apply\n",
      "    param_applied = fn(param)\n",
      "  File \"/home/mohammadsaad/envs/stocks/lib/python3.7/site-packages/torch/nn/modules/module.py\", line 897, in convert\n",
      "    return t.to(device, dtype if t.is_floating_point() or t.is_complex() else None, non_blocking)\n",
      "RuntimeError: CUDA error: out of memory\n",
      "CUDA kernel errors might be asynchronously reported at some other API call,so the stacktrace below might be incorrect.\n",
      "For debugging consider passing CUDA_LAUNCH_BLOCKING=1.\n"
     ]
    }
   ],
   "source": [
    "train_and_evaluate_mp(args) # the training process will terminate once it reaches the target reward."
   ]
  },
  {
   "cell_type": "markdown",
   "metadata": {
    "id": "JPXOxLSqh5cP"
   },
   "source": [
    "Understanding the above results::\n",
    "*   **Step**: the total training steps.\n",
    "*  **MaxR**: the maximum reward.\n",
    "*   **avgR**: the average of the rewards.\n",
    "*   **stdR**: the standard deviation of the rewards.\n",
    "*   **objA**: the objective function value of Actor Network (Policy Network).\n",
    "*   **objC**: the objective function value (Q-value)  of Critic Network (Value Network)."
   ]
  },
  {
   "cell_type": "markdown",
   "metadata": {
    "id": "v6jvgYPnHMpf"
   },
   "source": [
    "# **Part 7: Backtest and Draw the Graph**"
   ]
  },
  {
   "cell_type": "code",
   "execution_count": null,
   "metadata": {
    "colab": {
     "base_uri": "https://localhost:8080/",
     "height": 1000
    },
    "id": "3jCdezgzQUhh",
    "outputId": "a1ea5861-1ce9-4d44-c94d-3c236eb48428"
   },
   "outputs": [],
   "source": [
    "args = Arguments(if_on_policy=True)\n",
    "args.agent = AgentPPO()\n",
    "args.env = StockTradingEnv(cwd='./', if_eval=True)\n",
    "args.if_remove = False\n",
    "args.cwd = './AgentPPO/StockTradingEnv-v1_0'\n",
    "args.init_before_training()\n",
    "\n",
    "env.draw_cumulative_return(args, torch)"
   ]
  }
 ],
 "metadata": {
  "colab": {
   "collapsed_sections": [],
   "include_colab_link": true,
   "name": "eRL_demo_StockTrading.ipynb",
   "provenance": []
  },
  "kernelspec": {
   "display_name": "Python 3 (ipykernel)",
   "language": "python",
   "name": "python3"
  },
  "language_info": {
   "codemirror_mode": {
    "name": "ipython",
    "version": 3
   },
   "file_extension": ".py",
   "mimetype": "text/x-python",
   "name": "python",
   "nbconvert_exporter": "python",
   "pygments_lexer": "ipython3",
   "version": "3.7.5"
  }
 },
 "nbformat": 4,
 "nbformat_minor": 1
}
